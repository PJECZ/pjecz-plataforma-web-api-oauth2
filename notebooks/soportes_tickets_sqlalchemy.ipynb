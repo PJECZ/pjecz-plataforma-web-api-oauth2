{
 "cells": [
  {
   "cell_type": "markdown",
   "metadata": {},
   "source": [
    "# Soportes Tickets SQLAlchemy\n",
    "\n",
    "Instale tabulate con `pip install tabulate`"
   ]
  },
  {
   "cell_type": "code",
   "execution_count": null,
   "metadata": {},
   "outputs": [],
   "source": [
    "# Cargar paquetes e iniciar sesion a la BD\n",
    "from datetime import datetime\n",
    "from tabulate import tabulate\n",
    "from sqlalchemy.sql import func\n",
    "from lib.database import SessionLocal\n",
    "db = SessionLocal()"
   ]
  },
  {
   "cell_type": "code",
   "execution_count": null,
   "metadata": {},
   "outputs": [],
   "source": [
    "# Cargar modelos\n",
    "from plataforma_web.v1.autoridades.models import Autoridad\n",
    "from plataforma_web.v1.distritos.models import Distrito\n",
    "from plataforma_web.v1.domicilios.models import Domicilio\n",
    "from plataforma_web.v1.funcionarios.models import Funcionario\n",
    "from plataforma_web.v1.listas_de_acuerdos.models import ListaDeAcuerdo\n",
    "from plataforma_web.v1.listas_de_acuerdos_acuerdos.models import ListaDeAcuerdoAcuerdo\n",
    "from plataforma_web.v1.materias.models import Materia\n",
    "from plataforma_web.v1.materias_tipos_juicios.models import MateriaTipoJuicio\n",
    "from plataforma_web.v1.modulos.models import Modulo\n",
    "from plataforma_web.v1.oficinas.models import Oficina\n",
    "from plataforma_web.v1.permisos.models import Permiso\n",
    "from plataforma_web.v1.roles.models import Rol\n",
    "from plataforma_web.v1.sentencias.models import Sentencia\n",
    "from plataforma_web.v1.soportes_categorias.models import SoporteCategoria\n",
    "from plataforma_web.v1.soportes_tickets.models import SoporteTicket\n",
    "from plataforma_web.v1.usuarios.models import Usuario\n",
    "from plataforma_web.v1.usuarios_roles.models import UsuarioRol"
   ]
  },
  {
   "cell_type": "code",
   "execution_count": null,
   "metadata": {},
   "outputs": [],
   "source": [
    "# Consultar las oficinas\n",
    "oficinas = db.query(Oficina.clave, Oficina.descripcion_corta).\\\n",
    "    filter(Oficina.estatus == \"A\").\\\n",
    "    order_by(Oficina.clave)\n",
    "print(tabulate(oficinas.limit(10).all()))"
   ]
  },
  {
   "cell_type": "code",
   "execution_count": null,
   "metadata": {},
   "outputs": [],
   "source": [
    "# Consultar las categorias y los roles que las atienden\n",
    "soportes_categorias = db.query(SoporteCategoria.nombre.label(\"soporte_categoria_nombre\"), Rol.nombre.label(\"rol_nombre\")).\\\n",
    "    select_from(SoporteCategoria).join(Rol).\\\n",
    "    filter(SoporteCategoria.estatus == \"A\").\\\n",
    "    order_by(SoporteCategoria.nombre)\n",
    "print(tabulate(soportes_categorias.limit(10).all()))"
   ]
  },
  {
   "cell_type": "code",
   "execution_count": null,
   "metadata": {},
   "outputs": [],
   "source": [
    "# Rango de tiempos\n",
    "creado_desde = datetime(year=2022,month=2,day=21,hour=0,minute=0,second=0)\n",
    "creado_hasta = datetime(year=2022,month=2,day=25,hour=23,minute=59,second=59)"
   ]
  },
  {
   "cell_type": "code",
   "execution_count": null,
   "metadata": {},
   "outputs": [],
   "source": [
    "# Consultar tickets, categorias, usuarios y oficinas\n",
    "consulta = db.query(SoporteTicket.id, SoporteCategoria.nombre, Usuario.email, Oficina.clave).\\\n",
    "    select_from(SoporteTicket).join(SoporteCategoria).join(Usuario).join(Oficina).\\\n",
    "    filter(SoporteTicket.creado >= creado_desde, SoporteTicket.creado <= creado_hasta).\\\n",
    "    filter(SoporteTicket.estado == \"CERRADO\").\\\n",
    "    order_by(SoporteTicket.id.desc())\n",
    "print(tabulate(consulta.limit(10).all()))"
   ]
  },
  {
   "cell_type": "code",
   "execution_count": null,
   "metadata": {},
   "outputs": [],
   "source": [
    "# Contar cantidad de tickets por oficina\n",
    "consulta = db.query(Oficina.clave, func.count(\"*\").label(\"cantidad\")).\\\n",
    "    select_from(SoporteTicket).join(Usuario).join(Oficina).\\\n",
    "    filter(SoporteTicket.creado >= creado_desde, SoporteTicket.creado <= creado_hasta).\\\n",
    "    filter(SoporteTicket.estado == \"CERRADO\").\\\n",
    "    order_by(Oficina.clave).\\\n",
    "    group_by(Oficina.clave)\n",
    "print(tabulate(consulta.limit(10).all()))"
   ]
  },
  {
   "cell_type": "code",
   "execution_count": null,
   "metadata": {},
   "outputs": [],
   "source": [
    "# Contar cantidad de tickets por oficina y por categoria\n",
    "consulta = db.query(Oficina.clave, SoporteCategoria.nombre, func.count(\"*\").label(\"cantidad\")).\\\n",
    "    select_from(SoporteTicket).join(Usuario).join(Oficina).join(SoporteCategoria).\\\n",
    "    filter(SoporteTicket.creado >= creado_desde, SoporteTicket.creado <= creado_hasta).\\\n",
    "    filter(SoporteTicket.estado == \"CERRADO\").\\\n",
    "    order_by(Oficina.clave, SoporteCategoria.nombre).\\\n",
    "    group_by(Oficina.clave, SoporteCategoria.nombre)\n",
    "print(tabulate(consulta.limit(10).all()))"
   ]
  },
  {
   "cell_type": "code",
   "execution_count": null,
   "metadata": {},
   "outputs": [],
   "source": [
    "# Consultar primeros 4 caracteres de la clave de la oficina\n",
    "oficinas = db.query(Oficina.clave, func.substring(Oficina.clave, 1, 4).label(\"distrito\")).\\\n",
    "    filter(Oficina.estatus == \"A\").\\\n",
    "    order_by(Oficina.clave)\n",
    "print(tabulate(oficinas.limit(10).all()))"
   ]
  },
  {
   "cell_type": "code",
   "execution_count": null,
   "metadata": {},
   "outputs": [],
   "source": [
    "# Contar cantidad de tickets por oficina y por categoria\n",
    "consulta = db.query(func.substring(Oficina.clave, 1, 4).label(\"distrito\"), SoporteCategoria.nombre, func.count(\"*\").label(\"cantidad\")).\\\n",
    "    select_from(SoporteTicket).join(Usuario).join(Oficina).join(SoporteCategoria).\\\n",
    "    filter(SoporteTicket.creado >= creado_desde, SoporteTicket.creado <= creado_hasta).\\\n",
    "    filter(SoporteTicket.estado == \"CERRADO\").\\\n",
    "    order_by(\"distrito\", SoporteCategoria.nombre).\\\n",
    "    group_by(\"distrito\", SoporteCategoria.nombre)\n",
    "print(tabulate(consulta.limit(10).all()))"
   ]
  }
 ],
 "metadata": {
  "interpreter": {
   "hash": "8aaa67f5fff749436f585231123a87706ef0144126d244b1dbd867a0f6241d60"
  },
  "kernelspec": {
   "display_name": "Python 3.10.2 ('venv': venv)",
   "language": "python",
   "name": "python3"
  },
  "language_info": {
   "codemirror_mode": {
    "name": "ipython",
    "version": 3
   },
   "file_extension": ".py",
   "mimetype": "text/x-python",
   "name": "python",
   "nbconvert_exporter": "python",
   "pygments_lexer": "ipython3",
   "version": "3.10.2"
  },
  "orig_nbformat": 4
 },
 "nbformat": 4,
 "nbformat_minor": 2
}
