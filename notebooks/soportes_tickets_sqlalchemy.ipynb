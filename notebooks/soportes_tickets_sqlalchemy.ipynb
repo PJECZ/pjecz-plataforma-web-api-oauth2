{
 "cells": [
  {
   "cell_type": "markdown",
   "metadata": {},
   "source": [
    "# Soportes Tickets SQLAlchemy"
   ]
  },
  {
   "cell_type": "code",
   "execution_count": null,
   "metadata": {},
   "outputs": [],
   "source": [
    "# Cargar paquetes e iniciar sesion a la BD\n",
    "from datetime import datetime\n",
    "from sqlalchemy.sql import func\n",
    "from lib.database import SessionLocal\n",
    "db = SessionLocal()"
   ]
  },
  {
   "cell_type": "code",
   "execution_count": null,
   "metadata": {},
   "outputs": [],
   "source": [
    "# Cargar modelos\n",
    "from plataforma_web.v1.autoridades.models import Autoridad\n",
    "from plataforma_web.v1.distritos.models import Distrito\n",
    "from plataforma_web.v1.domicilios.models import Domicilio\n",
    "from plataforma_web.v1.funcionarios.models import Funcionario\n",
    "from plataforma_web.v1.listas_de_acuerdos.models import ListaDeAcuerdo\n",
    "from plataforma_web.v1.listas_de_acuerdos_acuerdos.models import ListaDeAcuerdoAcuerdo\n",
    "from plataforma_web.v1.materias.models import Materia\n",
    "from plataforma_web.v1.materias_tipos_juicios.models import MateriaTipoJuicio\n",
    "from plataforma_web.v1.modulos.models import Modulo\n",
    "from plataforma_web.v1.oficinas.models import Oficina\n",
    "from plataforma_web.v1.permisos.models import Permiso\n",
    "from plataforma_web.v1.roles.models import Rol\n",
    "from plataforma_web.v1.sentencias.models import Sentencia\n",
    "from plataforma_web.v1.soportes_categorias.models import SoporteCategoria\n",
    "from plataforma_web.v1.soportes_tickets.models import SoporteTicket\n",
    "from plataforma_web.v1.usuarios.models import Usuario\n",
    "from plataforma_web.v1.usuarios_roles.models import UsuarioRol"
   ]
  },
  {
   "cell_type": "code",
   "execution_count": null,
   "metadata": {},
   "outputs": [],
   "source": [
    "# Consultar categorias\n",
    "soportes_categorias = db.query(SoporteCategoria.id, SoporteCategoria.nombre).\\\n",
    "    filter(SoporteCategoria.estatus == \"A\").\\\n",
    "    order_by(SoporteCategoria.nombre)\n",
    "for id, nombre in soportes_categorias.limit(10).all():\n",
    "    print(f\"{id} - {nombre}\")"
   ]
  },
  {
   "cell_type": "code",
   "execution_count": null,
   "metadata": {},
   "outputs": [],
   "source": [
    "# Consultar oficinas\n",
    "oficinas = db.query(Oficina.id, Oficina.clave, Oficina.descripcion_corta).\\\n",
    "    filter(Oficina.estatus == \"A\").\\\n",
    "    order_by(Oficina.clave)\n",
    "for id, clave, descripcion_corta in oficinas.limit(10).all():\n",
    "    print(f\"{id} - {clave} - {descripcion_corta}\")\n"
   ]
  },
  {
   "cell_type": "code",
   "execution_count": null,
   "metadata": {},
   "outputs": [],
   "source": [
    "# Rango de tiempos\n",
    "creado_desde = datetime(year=2022,month=2,day=21,hour=0,minute=0,second=0)\n",
    "creado_hasta = datetime(year=2022,month=2,day=23,hour=23,minute=59,second=59)\n",
    "\n",
    "# Subquery cantidades de tickets por categoria\n",
    "precursor = db.query(SoporteTicket.soporte_categoria_id, func.count(\"*\").label(\"cantidad\")).\\\n",
    "    filter(SoporteTicket.creado >= creado_desde, SoporteTicket.creado <= creado_hasta).\\\n",
    "    filter(SoporteTicket.estado == \"CERRADO\").\\\n",
    "    group_by(SoporteTicket.soporte_categoria_id).\\\n",
    "    subquery()\n",
    "\n",
    "# Consultar categorias y cantidades de tickets\n",
    "consulta = db.query(SoporteCategoria.nombre, precursor.c.cantidad).\\\n",
    "    filter(SoporteCategoria.estatus == \"A\").\\\n",
    "    outerjoin(precursor, SoporteCategoria.id == precursor.c.soporte_categoria_id)\n",
    "\n",
    "# Top 10\n",
    "renglon = 0\n",
    "for nombre, cantidad in consulta.order_by(precursor.c.cantidad.desc()).all():\n",
    "    if cantidad is not None:\n",
    "        print(f\"{nombre} - {cantidad}\")\n",
    "        renglon += 1\n",
    "        if renglon > 10:\n",
    "            break"
   ]
  }
 ],
 "metadata": {
  "interpreter": {
   "hash": "8aaa67f5fff749436f585231123a87706ef0144126d244b1dbd867a0f6241d60"
  },
  "kernelspec": {
   "display_name": "Python 3.10.2 ('venv': venv)",
   "language": "python",
   "name": "python3"
  },
  "language_info": {
   "codemirror_mode": {
    "name": "ipython",
    "version": 3
   },
   "file_extension": ".py",
   "mimetype": "text/x-python",
   "name": "python",
   "nbconvert_exporter": "python",
   "pygments_lexer": "ipython3",
   "version": "3.10.2"
  },
  "orig_nbformat": 4
 },
 "nbformat": 4,
 "nbformat_minor": 2
}
