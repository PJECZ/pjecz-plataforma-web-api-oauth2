{
 "cells": [
  {
   "cell_type": "markdown",
   "source": [
    "# Versiones Públicas de Sentencias - Divorcios\n",
    "\n",
    "Debe tener una archivo .env para guardar de forma segura su USERNAME y PASSWORD."
   ],
   "metadata": {}
  },
  {
   "cell_type": "code",
   "execution_count": null,
   "source": [
    "from dotenv import load_dotenv\n",
    "import os\n",
    "import pandas as pd\n",
    "import requests"
   ],
   "outputs": [],
   "metadata": {}
  },
  {
   "cell_type": "code",
   "execution_count": null,
   "source": [
    "# Hola a Plataforma Web API OAuth2\n",
    "HOST = \"https://plataforma-web-api-oauth2-dot-pjecz-268521.uc.r.appspot.com\"\n",
    "respuesta = requests.get(HOST)\n",
    "print(respuesta.status_code)\n",
    "print(respuesta.text)"
   ],
   "outputs": [],
   "metadata": {}
  },
  {
   "cell_type": "code",
   "execution_count": null,
   "source": [
    "# Cargar username/password\n",
    "load_dotenv()\n",
    "parametros = {\n",
    "    \"username\": os.getenv(\"USERNAME\"),\n",
    "    \"password\": os.getenv(\"PASSWORD\"),\n",
    "}\n",
    "print(parametros[\"username\"])"
   ],
   "outputs": [],
   "metadata": {}
  },
  {
   "cell_type": "code",
   "execution_count": null,
   "source": [
    "# Solicitar token\n",
    "cabeceras_para_autentificar = {'content-type': \"application/x-www-form-urlencoded\"}\n",
    "respuesta = requests.post(f\"{HOST}/token\", data=parametros, headers=cabeceras_para_autentificar)\n",
    "print(respuesta.status_code)"
   ],
   "outputs": [],
   "metadata": {}
  },
  {
   "cell_type": "code",
   "execution_count": null,
   "source": [
    "# Definir cabeceras_para_api\n",
    "cabeceras_para_api = None\n",
    "if respuesta.status_code == 200:\n",
    "    token = respuesta.json()['access_token']\n",
    "    cabeceras_para_api = {'Authorization': 'Bearer ' + token}\n",
    "print(cabeceras_para_api)"
   ],
   "outputs": [],
   "metadata": {}
  },
  {
   "cell_type": "code",
   "execution_count": null,
   "source": [
    "# Función consultar\n",
    "def consultar(ruta: str, parametros: dict = None):\n",
    "    try:\n",
    "        respuesta = requests.get(f\"{HOST}/v1/{ruta}\", headers=cabeceras_para_api, params=parametros, timeout=12)\n",
    "    except requests.exceptions.RequestException as error:\n",
    "        raise Exception(\"Parece que hay un error en la consulta: \" + str(error))\n",
    "    print(respuesta.status_code)\n",
    "    if respuesta.status_code != 200:\n",
    "        raise requests.HTTPError(\"No se tiene una respuesta con éxito\")\n",
    "    datos = respuesta.json()\n",
    "    if \"items\" in datos:\n",
    "        return pd.json_normalize(datos[\"items\"])\n",
    "    return pd.json_normalize(datos)"
   ],
   "outputs": [],
   "metadata": {}
  },
  {
   "cell_type": "code",
   "execution_count": null,
   "source": [
    "# Materias\n",
    "consultar(\"materias\")"
   ],
   "outputs": [],
   "metadata": {}
  },
  {
   "cell_type": "code",
   "execution_count": null,
   "source": [
    "# Tipos de Juicios de la Materia FAMILIAR ORAL (6)\n",
    "consultar(\"materias/6/tipos_juicios\")"
   ],
   "outputs": [],
   "metadata": {}
  },
  {
   "cell_type": "code",
   "execution_count": null,
   "source": [
    "# Tipo de Juicio DIVORCIO (216)\n",
    "consultar(\"materias/6/tipos_juicios/216\")"
   ],
   "outputs": [],
   "metadata": {}
  },
  {
   "cell_type": "code",
   "execution_count": null,
   "source": [
    "# Distritos\n",
    "consultar(\"distritos\")"
   ],
   "outputs": [],
   "metadata": {}
  },
  {
   "cell_type": "code",
   "execution_count": null,
   "source": [
    "# Autoridades del Distrito Judicial de Saltillo (6) con materia FAMILIAR ORAL (6)\n",
    "parametros = { \"distrito_id\": 6, \"materia_id\": 6 }\n",
    "consultar(\"autoridades\", parametros)"
   ],
   "outputs": [],
   "metadata": {}
  },
  {
   "cell_type": "code",
   "execution_count": null,
   "source": [
    "# Sentencias con Tipo de Juicio DIVORCIO (216)\n",
    "parametros = { \"distrito_id\": 6, \"materia_tipo_juicio_id\": 216 }\n",
    "consultar(\"sentencias\", parametros)"
   ],
   "outputs": [],
   "metadata": {}
  },
  {
   "cell_type": "code",
   "execution_count": null,
   "source": [
    "# Sentencias del Distrito Judicial de Saltillo (6) con Tipo de Juicio DIVORCIO (216)\n",
    "parametros = { \"distrito_id\": 6, \"materia_tipo_juicio_id\": 216 }\n",
    "consultar(\"sentencias\", parametros)"
   ],
   "outputs": [],
   "metadata": {}
  }
 ],
 "metadata": {
  "orig_nbformat": 4,
  "language_info": {
   "name": "python",
   "version": "3.9.7",
   "mimetype": "text/x-python",
   "codemirror_mode": {
    "name": "ipython",
    "version": 3
   },
   "pygments_lexer": "ipython3",
   "nbconvert_exporter": "python",
   "file_extension": ".py"
  },
  "kernelspec": {
   "name": "python3",
   "display_name": "Python 3.9.7 64-bit ('venv': venv)"
  },
  "interpreter": {
   "hash": "8e185416734fb21d439ee8e7e86ae9e406f1d8408df3186f34a69c73d07abc00"
  }
 },
 "nbformat": 4,
 "nbformat_minor": 2
}