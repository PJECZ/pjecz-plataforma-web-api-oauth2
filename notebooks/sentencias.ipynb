{
 "cells": [
  {
   "cell_type": "markdown",
   "metadata": {},
   "source": [
    "# Versiones Públicas de Sentencias - Divorcios\n",
    "\n",
    "Antes de ejecutar lea README.md y siga los pasos descritos."
   ]
  },
  {
   "cell_type": "code",
   "execution_count": null,
   "metadata": {},
   "outputs": [],
   "source": [
    "from dotenv import load_dotenv\n",
    "from IPython.display import display\n",
    "import os\n",
    "import pandas as pd\n",
    "import requests"
   ]
  },
  {
   "cell_type": "code",
   "execution_count": null,
   "metadata": {},
   "outputs": [],
   "source": [
    "# Rango de fechas a consultar\n",
    "FECHA_DESDE = \"2021-08-16\"\n",
    "FECHA_HASTA = \"2021-09-24\""
   ]
  },
  {
   "cell_type": "code",
   "execution_count": null,
   "metadata": {},
   "outputs": [],
   "source": [
    "# Hola a Plataforma Web API OAuth2\n",
    "HOST = \"https://plataforma-web-api-oauth2-dot-pjecz-268521.uc.r.appspot.com\"\n",
    "respuesta = requests.get(HOST)\n",
    "print(respuesta.status_code)\n",
    "print(respuesta.text)"
   ]
  },
  {
   "cell_type": "code",
   "execution_count": null,
   "metadata": {},
   "outputs": [],
   "source": [
    "# Cargar username/password\n",
    "load_dotenv()\n",
    "parametros = {\n",
    "    \"username\": os.getenv(\"USERNAME\"),\n",
    "    \"password\": os.getenv(\"PASSWORD\"),\n",
    "}\n",
    "print(parametros[\"username\"])"
   ]
  },
  {
   "cell_type": "code",
   "execution_count": null,
   "metadata": {},
   "outputs": [],
   "source": [
    "# Solicitar token\n",
    "cabeceras_para_autentificar = {'content-type': \"application/x-www-form-urlencoded\"}\n",
    "respuesta = requests.post(f\"{HOST}/token\", data=parametros, headers=cabeceras_para_autentificar)\n",
    "print(respuesta.status_code)"
   ]
  },
  {
   "cell_type": "code",
   "execution_count": null,
   "metadata": {},
   "outputs": [],
   "source": [
    "# Definir cabeceras_para_api\n",
    "cabeceras_para_api = None\n",
    "if respuesta.status_code == 200:\n",
    "    token = respuesta.json()['access_token']\n",
    "    cabeceras_para_api = {'Authorization': 'Bearer ' + token}\n",
    "print(cabeceras_para_api)"
   ]
  },
  {
   "cell_type": "code",
   "execution_count": null,
   "metadata": {},
   "outputs": [],
   "source": [
    "# Función consultar\n",
    "def consultar(ruta: str, parametros: dict = None):\n",
    "    \"\"\"Consultar la API entrega dos valores: listado/registro, total\"\"\"\n",
    "    try:\n",
    "        respuesta = requests.get(f\"{HOST}/v1/{ruta}\", headers=cabeceras_para_api, params=parametros, timeout=12)\n",
    "    except requests.exceptions.RequestException as error:\n",
    "        raise Exception(\"Parece que hay un error en la consulta: \" + str(error))\n",
    "    #print(respuesta.status_code)\n",
    "    if respuesta.status_code != 200:\n",
    "        raise requests.HTTPError(\"Parece que ya caducó el token\")\n",
    "    datos = respuesta.json()\n",
    "    if \"items\" in datos:\n",
    "        return pd.json_normalize(datos[\"items\"]), datos[\"total\"]\n",
    "    return pd.json_normalize(datos), 1"
   ]
  },
  {
   "cell_type": "code",
   "execution_count": null,
   "metadata": {},
   "outputs": [],
   "source": [
    "# Materias\n",
    "datos, total = consultar(\"materias\")\n",
    "datos"
   ]
  },
  {
   "cell_type": "code",
   "execution_count": null,
   "metadata": {},
   "outputs": [],
   "source": [
    "# Tipos de Juicios de la Materia FAMILIAR ORAL (6)\n",
    "datos, total = consultar(\"materias/6/tipos_juicios\")\n",
    "datos"
   ]
  },
  {
   "cell_type": "code",
   "execution_count": null,
   "metadata": {},
   "outputs": [],
   "source": [
    "# Tipo de Juicio DIVORCIO (216)\n",
    "datos, total = consultar(\"materias/6/tipos_juicios/216\")\n",
    "datos"
   ]
  },
  {
   "cell_type": "code",
   "execution_count": null,
   "metadata": {},
   "outputs": [],
   "source": [
    "# Sentencias con Tipo de Juicio DIVORCIO (216)\n",
    "parametros = {\"materia_tipo_juicio_id\": 216, \"fecha_desde\": FECHA_DESDE, \"fecha_hasta\": FECHA_HASTA}\n",
    "datos, total = consultar(\"sentencias\", parametros)\n",
    "total"
   ]
  },
  {
   "cell_type": "code",
   "execution_count": null,
   "metadata": {},
   "outputs": [],
   "source": [
    "# Distritos\n",
    "datos, total = consultar(\"distritos\")\n",
    "datos"
   ]
  },
  {
   "cell_type": "code",
   "execution_count": null,
   "metadata": {},
   "outputs": [],
   "source": [
    "# Autoridades del Distrito Judicial\n",
    "# Para elegir el distrito, descomente la linea que define su valor para los siguientes bloques\n",
    "# DISTRITO_ID = 1  # Distrito Judicial de Acuña (1)\n",
    "# DISTRITO_ID = 2  # Distrito Judicial de Monclova (2)\n",
    "# DISTRITO_ID = 3  # Distrito Judicial de Parras de la Fuente (3)\n",
    "# DISTRITO_ID = 4  # Distrito Judicial de Río Grande (Piedras Negras) (4)\n",
    "# DISTRITO_ID = 5  # Distrito Sabinas (5)\n",
    "# DISTRITO_ID = 6  # Distrito Judicial de Saltillo (6)\n",
    "# DISTRITO_ID = 7  # Distrito Judicial de San Pedro de las Colonias (7)\n",
    "DISTRITO_ID = 8  # Distrito Judicial de Torreón (8)\n",
    "# MATERIA_ID = 6  # Materia FAMILIAR ORAL (6)\n",
    "parametros = {\"distrito_id\": DISTRITO_ID}\n",
    "datos, total = consultar(\"autoridades\", parametros)\n",
    "datos[[\"id\", \"distrito_nombre\", \"descripcion\", \"clave\", \"materia_nombre\"]]"
   ]
  },
  {
   "cell_type": "code",
   "execution_count": null,
   "metadata": {},
   "outputs": [],
   "source": [
    "# Sentencias del Distrito Judicial en el rango de fechas\n",
    "parametros = {\"distrito_id\": DISTRITO_ID, \"fecha_desde\": FECHA_DESDE, \"fecha_hasta\": FECHA_HASTA, \"limit\": 500}\n",
    "sentencias, total = consultar(\"sentencias\", parametros)\n",
    "print(\"Total\", total)\n",
    "if total == 0:\n",
    "    raise ValueError(\"No hay sentencias en el distrito judicial y en el rango de fechas dado\")\n",
    "sentencias.materia_nombre = sentencias.materia_nombre.astype(\"category\")\n",
    "sentencias.materia_tipo_juicio_descripcion = sentencias.materia_tipo_juicio_descripcion.astype(\"category\")\n",
    "sentencias[[\"id\", \"distrito_nombre_corto\", \"autoridad_descripcion_corta\", \"sentencia_fecha\", \"sentencia\", \"expediente\", \"url\"]].head(8)"
   ]
  },
  {
   "cell_type": "code",
   "execution_count": null,
   "metadata": {},
   "outputs": [],
   "source": [
    "# Reporte: filtrar por materia\n",
    "sentencias.materia_nombre.cat.categories\n",
    "#sentencias_familiar_oral = sentencias[sentencias.materia_nombre == 'FAMILIAR ORAL']\n",
    "#sentencias_familiar_oral[[\"id\", \"distrito_nombre_corto\", \"autoridad_descripcion_corta\", \"sentencia_fecha\", \"sentencia\", \"expediente\", \"descripcion\", \"url\"]]"
   ]
  },
  {
   "cell_type": "code",
   "execution_count": null,
   "metadata": {},
   "outputs": [],
   "source": [
    "# Reporte: agrupado por materia\n",
    "agrupado = sentencias.groupby(\"materia_nombre\")\n",
    "# agrupado = sentencias.groupby([\"materia_nombre\", \"materia_tipo_juicio_descripcion\", \"autoridad_descripcion_corta\"])\n",
    "agrupado[\"autoridad_descripcion_corta\"].count()"
   ]
  },
  {
   "cell_type": "code",
   "execution_count": null,
   "metadata": {},
   "outputs": [],
   "source": [
    "# Reporte: pivot table\n",
    "sentencias.pivot_table(\n",
    "    index=[\"materia_tipo_juicio_descripcion\"], \n",
    "    columns=pd.Grouper(key=\"autoridad_descripcion_corta\"), \n",
    "    values=\"autoridad_clave\", \n",
    "    aggfunc='count',\n",
    ")"
   ]
  },
  {
   "cell_type": "code",
   "execution_count": null,
   "metadata": {},
   "outputs": [],
   "source": [
    "# Reporte: bucle de pivot table\n",
    "for materia in sentencias.materia_nombre.cat.categories:\n",
    "    sentencias_por_materia = sentencias[sentencias.materia_nombre == materia]\n",
    "    print(materia, len(sentencias_por_materia))\n",
    "    display(\n",
    "        sentencias_por_materia.pivot_table(\n",
    "            index=[\"materia_tipo_juicio_descripcion\"], \n",
    "            columns=pd.Grouper(key=\"autoridad_descripcion_corta\"), \n",
    "            values=\"autoridad_clave\", \n",
    "            aggfunc='count',\n",
    "        )\n",
    "    )"
   ]
  }
 ],
 "metadata": {
  "interpreter": {
   "hash": "8e185416734fb21d439ee8e7e86ae9e406f1d8408df3186f34a69c73d07abc00"
  },
  "kernelspec": {
   "display_name": "Python 3.9.7 64-bit ('venv': venv)",
   "name": "python3"
  },
  "language_info": {
   "codemirror_mode": {
    "name": "ipython",
    "version": 3
   },
   "file_extension": ".py",
   "mimetype": "text/x-python",
   "name": "python",
   "nbconvert_exporter": "python",
   "pygments_lexer": "ipython3",
   "version": "3.9.7"
  },
  "orig_nbformat": 4
 },
 "nbformat": 4,
 "nbformat_minor": 2
}
