{
 "cells": [
  {
   "cell_type": "markdown",
   "metadata": {},
   "source": [
    "# Listas de Acuerdos\n",
    "\n",
    "Antes de ejecutar lea README.md y siga los pasos descritos."
   ]
  },
  {
   "cell_type": "code",
   "execution_count": null,
   "metadata": {},
   "outputs": [],
   "source": [
    "from dotenv import load_dotenv\n",
    "import os\n",
    "import pandas as pd\n",
    "import requests"
   ]
  },
  {
   "cell_type": "code",
   "execution_count": null,
   "metadata": {},
   "outputs": [],
   "source": [
    "# Hola a Plataforma Web API OAuth2\n",
    "HOST = \"https://plataforma-web-api-oauth2-dot-pjecz-268521.uc.r.appspot.com\"\n",
    "respuesta = requests.get(HOST)\n",
    "print(respuesta.status_code)\n",
    "print(respuesta.text)"
   ]
  },
  {
   "cell_type": "code",
   "execution_count": null,
   "metadata": {},
   "outputs": [],
   "source": [
    "# Cargar username/password\n",
    "load_dotenv()\n",
    "parametros = {\n",
    "    \"username\": os.getenv(\"USERNAME\"),\n",
    "    \"password\": os.getenv(\"PASSWORD\"),\n",
    "}\n",
    "print(parametros[\"username\"])"
   ]
  },
  {
   "cell_type": "code",
   "execution_count": null,
   "metadata": {},
   "outputs": [],
   "source": [
    "# Solicitar token\n",
    "cabeceras_para_autentificar = {'content-type': \"application/x-www-form-urlencoded\"}\n",
    "respuesta = requests.post(f\"{HOST}/token\", data=parametros, headers=cabeceras_para_autentificar)\n",
    "print(respuesta.status_code)"
   ]
  },
  {
   "cell_type": "code",
   "execution_count": null,
   "metadata": {},
   "outputs": [],
   "source": [
    "# Definir cabeceras_para_api\n",
    "cabeceras_para_api = None\n",
    "if respuesta.status_code == 200:\n",
    "    token = respuesta.json()['access_token']\n",
    "    cabeceras_para_api = {'Authorization': 'Bearer ' + token}\n",
    "print(cabeceras_para_api)"
   ]
  },
  {
   "cell_type": "code",
   "execution_count": null,
   "metadata": {},
   "outputs": [],
   "source": [
    "# Función consultar\n",
    "def consultar(ruta: str, parametros: dict = None):\n",
    "    try:\n",
    "        respuesta = requests.get(f\"{HOST}/v1/{ruta}\", headers=cabeceras_para_api, params=parametros, timeout=12)\n",
    "    except requests.exceptions.RequestException as error:\n",
    "        raise Exception(\"Parece que hay un error en la consulta: \" + str(error))\n",
    "    print(respuesta.status_code)\n",
    "    if respuesta.status_code != 200:\n",
    "        raise requests.HTTPError(\"No se tiene una respuesta con éxito\")\n",
    "    datos = respuesta.json()\n",
    "    if \"items\" in datos:\n",
    "        return pd.json_normalize(datos[\"items\"])\n",
    "    return pd.json_normalize(datos)"
   ]
  },
  {
   "cell_type": "code",
   "execution_count": null,
   "metadata": {},
   "outputs": [],
   "source": [
    "# Distritos\n",
    "consultar(\"distritos\")"
   ]
  },
  {
   "cell_type": "code",
   "execution_count": null,
   "metadata": {},
   "outputs": [],
   "source": [
    "# Autoridades\n",
    "DISTRITO_ID = 8 # Distrito Judicial de Torreon (8)\n",
    "MATERIA_ID = 6 # FAMILIAR ORAL (6)\n",
    "parametros = {\"distrito_id\": DISTRITO_ID, \"materia_id\": MATERIA_ID}\n",
    "consultar(\"autoridades\", parametros)"
   ]
  },
  {
   "cell_type": "code",
   "execution_count": null,
   "metadata": {},
   "outputs": [],
   "source": [
    "# Listas de Acuerdos\n",
    "FECHA = \"2021-09-24\"\n",
    "AUTORIDAD_ID = 63 # Torreon J. Segundo Familiar Oral\n",
    "#parametros = {\"distrito_id\": DISTRITO_ID, \"fecha\": FECHA}\n",
    "parametros = {\"autoridad_id\": AUTORIDAD_ID, \"fecha\": FECHA}\n",
    "listas_de_acuerdos = consultar(\"listas_de_acuerdos\", parametros)\n",
    "listas_de_acuerdos"
   ]
  }
 ],
 "metadata": {
  "interpreter": {
   "hash": "8e185416734fb21d439ee8e7e86ae9e406f1d8408df3186f34a69c73d07abc00"
  },
  "kernelspec": {
   "display_name": "Python 3.9.7 64-bit ('venv': venv)",
   "name": "python3"
  },
  "language_info": {
   "codemirror_mode": {
    "name": "ipython",
    "version": 3
   },
   "file_extension": ".py",
   "mimetype": "text/x-python",
   "name": "python",
   "nbconvert_exporter": "python",
   "pygments_lexer": "ipython3",
   "version": "3.9.7"
  },
  "orig_nbformat": 4
 },
 "nbformat": 4,
 "nbformat_minor": 2
}
