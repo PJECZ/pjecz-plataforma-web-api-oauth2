{
 "cells": [
  {
   "cell_type": "markdown",
   "metadata": {},
   "source": [
    "# Inventarios SQLAlchemy"
   ]
  },
  {
   "cell_type": "code",
   "execution_count": null,
   "metadata": {},
   "outputs": [],
   "source": [
    "# Cargar paquetes e iniciar sesion a la BD\n",
    "from datetime import datetime\n",
    "from tabulate import tabulate\n",
    "from sqlalchemy.sql import func\n",
    "from lib.database import SessionLocal\n",
    "db = SessionLocal()"
   ]
  },
  {
   "cell_type": "code",
   "execution_count": null,
   "metadata": {},
   "outputs": [],
   "source": [
    "# Cargar modelos\n",
    "from plataforma_web.v1.abogados.models import Abogado\n",
    "from plataforma_web.v1.autoridades.models import Autoridad\n",
    "from plataforma_web.v1.centros_trabajos.models import CentroTrabajo\n",
    "from plataforma_web.v1.distritos.models import Distrito\n",
    "from plataforma_web.v1.domicilios.models import Domicilio\n",
    "from plataforma_web.v1.edictos.models import Edicto\n",
    "from plataforma_web.v1.funcionarios.models import Funcionario\n",
    "from plataforma_web.v1.inv_categorias.models import InvCategoria\n",
    "from plataforma_web.v1.inv_componentes.models import InvComponente\n",
    "from plataforma_web.v1.inv_custodias.models import InvCustodia\n",
    "from plataforma_web.v1.inv_equipos.models import InvEquipo\n",
    "from plataforma_web.v1.inv_marcas.models import InvMarca\n",
    "from plataforma_web.v1.inv_modelos.models import InvModelo\n",
    "from plataforma_web.v1.inv_redes.models import InvRed\n",
    "from plataforma_web.v1.listas_de_acuerdos.models import ListaDeAcuerdo\n",
    "from plataforma_web.v1.listas_de_acuerdos_acuerdos.models import ListaDeAcuerdoAcuerdo\n",
    "from plataforma_web.v1.materias.models import Materia\n",
    "from plataforma_web.v1.materias_tipos_juicios.models import MateriaTipoJuicio\n",
    "from plataforma_web.v1.modulos.models import Modulo\n",
    "from plataforma_web.v1.oficinas.models import Oficina\n",
    "from plataforma_web.v1.permisos.models import Permiso\n",
    "from plataforma_web.v1.redams.models import Redam\n",
    "from plataforma_web.v1.roles.models import Rol\n",
    "from plataforma_web.v1.sentencias.models import Sentencia\n",
    "from plataforma_web.v1.soportes_categorias.models import SoporteCategoria\n",
    "from plataforma_web.v1.soportes_tickets.models import SoporteTicket\n",
    "from plataforma_web.v1.usuarios.models import Usuario\n",
    "from plataforma_web.v1.usuarios_roles.models import UsuarioRol"
   ]
  },
  {
   "cell_type": "code",
   "execution_count": null,
   "metadata": {},
   "outputs": [],
   "source": [
    "# Consultar las oficinas\n",
    "oficinas = db.query(Oficina.clave, Oficina.descripcion_corta).\\\n",
    "    filter(Oficina.estatus == \"A\").\\\n",
    "    order_by(Oficina.clave)\n",
    "print(tabulate(oficinas.limit(4).all()))"
   ]
  },
  {
   "cell_type": "code",
   "execution_count": null,
   "metadata": {},
   "outputs": [],
   "source": [
    "# Matriz con oficinas, usuarios, custodias, equipos, tipos, modelos y marcas\n",
    "inv_equipos = db.\\\n",
    "    query(\n",
    "        Oficina.clave,\n",
    "        Usuario.email,\n",
    "        InvCustodia.id.label(\"inv_custodia_id\"), \n",
    "        InvCustodia.nombre_completo.label(\"inv_custodia_nombre_completo\"), \n",
    "        InvEquipo.id.label(\"inv_equipo_id\"),\n",
    "        InvEquipo.tipo, \n",
    "        InvMarca.nombre.label(\"inv_marca_nombre\"), \n",
    "        InvModelo.descripcion.label(\"inv_modelo_descripcion\"), \n",
    "        InvEquipo.descripcion.label(\"inv_equipo_descripcion\"),\n",
    "        InvEquipo.fecha_fabricacion,\n",
    "    ).\\\n",
    "    select_from(Oficina).join(Usuario, InvCustodia, InvEquipo, InvModelo, InvMarca).\\\n",
    "    filter(Oficina.estatus == \"A\").\\\n",
    "    filter(Usuario.estatus == \"A\").\\\n",
    "    filter(InvCustodia.estatus == \"A\").\\\n",
    "    filter(InvEquipo.estatus == \"A\").\\\n",
    "    order_by(InvCustodia.id, InvEquipo.id)\n",
    "headers = [\"Oficina\", \"Usuario\", \"ID Custodia\", \"Nombre\", \"ID Equipo\", \"Tipo\", \"Marca\", \"Modelo\", \"Descripcion\", \"Fabricacion\"]\n",
    "print(tabulate(inv_equipos.limit(8).all(), headers=headers))"
   ]
  },
  {
   "cell_type": "code",
   "execution_count": null,
   "metadata": {},
   "outputs": [],
   "source": [
    "# Contar cantidad de equipos por tipo\n",
    "consulta = db.\\\n",
    "    query(\n",
    "        Oficina.clave,\n",
    "        InvEquipo.tipo,\n",
    "        func.count(\"*\").label(\"cantidad\"),\n",
    "    ).\\\n",
    "    select_from(Oficina).join(Usuario, InvCustodia, InvEquipo).\\\n",
    "    filter(Oficina.estatus == \"A\").\\\n",
    "    filter(Usuario.estatus == \"A\").\\\n",
    "    filter(InvCustodia.estatus == \"A\").\\\n",
    "    filter(InvEquipo.estatus == \"A\").\\\n",
    "    order_by(InvEquipo.tipo).\\\n",
    "    group_by(Oficina.clave, InvEquipo.tipo)\n",
    "print(tabulate(consulta.limit(8).all()))"
   ]
  }
 ],
 "metadata": {
  "kernelspec": {
   "display_name": "Python 3.10.6 ('.venv': poetry)",
   "language": "python",
   "name": "python3"
  },
  "language_info": {
   "codemirror_mode": {
    "name": "ipython",
    "version": 3
   },
   "file_extension": ".py",
   "mimetype": "text/x-python",
   "name": "python",
   "nbconvert_exporter": "python",
   "pygments_lexer": "ipython3",
   "version": "3.10.6"
  },
  "orig_nbformat": 4,
  "vscode": {
   "interpreter": {
    "hash": "f759d801a773d60fbcebe7fca0dc0744ee21f4ec20f1cb418635fef306b1a65e"
   }
  }
 },
 "nbformat": 4,
 "nbformat_minor": 2
}
