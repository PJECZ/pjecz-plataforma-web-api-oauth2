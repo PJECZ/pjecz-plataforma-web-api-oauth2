{
 "cells": [
  {
   "cell_type": "markdown",
   "metadata": {},
   "source": [
    "# Versiones Públicas de Sentencias - Divorcios\n",
    "\n",
    "Instale en su entorno virtual los paquetes `pip install python-dotenv requests pandas ipykernel`\n",
    "\n",
    "Debe tener una archivo `.env` donde guarde de forma segura su USERNAME y PASSWORD."
   ]
  },
  {
   "cell_type": "code",
   "execution_count": null,
   "metadata": {},
   "outputs": [],
   "source": [
    "from dotenv import load_dotenv\n",
    "from IPython.display import display\n",
    "import os\n",
    "import pandas as pd\n",
    "import requests"
   ]
  },
  {
   "cell_type": "code",
   "execution_count": null,
   "metadata": {},
   "outputs": [],
   "source": [
    "# Hola a Plataforma Web API OAuth2\n",
    "HOST = \"http://localhost:8002\"\n",
    "respuesta = requests.get(HOST)\n",
    "print(respuesta.status_code)\n",
    "print(respuesta.text)"
   ]
  },
  {
   "cell_type": "code",
   "execution_count": null,
   "metadata": {},
   "outputs": [],
   "source": [
    "# Cargar username/password\n",
    "load_dotenv()\n",
    "parametros = {\n",
    "    \"username\": os.getenv(\"USERNAME\"),\n",
    "    \"password\": os.getenv(\"PASSWORD\"),\n",
    "}\n",
    "print(parametros[\"username\"])"
   ]
  },
  {
   "cell_type": "code",
   "execution_count": null,
   "metadata": {},
   "outputs": [],
   "source": [
    "# Solicitar token\n",
    "cabeceras_para_autentificar = {'content-type': \"application/x-www-form-urlencoded\"}\n",
    "respuesta = requests.post(f\"{HOST}/token\", data=parametros, headers=cabeceras_para_autentificar)\n",
    "print(respuesta.status_code)"
   ]
  },
  {
   "cell_type": "code",
   "execution_count": null,
   "metadata": {},
   "outputs": [],
   "source": [
    "# Definir cabeceras_para_api\n",
    "cabeceras_para_api = None\n",
    "if respuesta.status_code == 200:\n",
    "    token = respuesta.json()['access_token']\n",
    "    cabeceras_para_api = {'Authorization': 'Bearer ' + token}\n",
    "print(cabeceras_para_api)"
   ]
  },
  {
   "cell_type": "code",
   "execution_count": null,
   "metadata": {},
   "outputs": [],
   "source": [
    "# Función consultar\n",
    "def consultar(ruta: str, parametros: dict = None):\n",
    "    \"\"\"Consultar la API entrega dos valores: listado/registro, total\"\"\"\n",
    "    try:\n",
    "        respuesta = requests.get(f\"{HOST}/v1/{ruta}\", headers=cabeceras_para_api, params=parametros, timeout=12)\n",
    "    except requests.exceptions.RequestException as error:\n",
    "        raise Exception(\"Parece que hay un error en la consulta: \" + str(error))\n",
    "    #print(respuesta.status_code)\n",
    "    if respuesta.status_code != 200:\n",
    "        raise requests.HTTPError(\"Parece que ya caducó el token\")\n",
    "    datos = respuesta.json()\n",
    "    if \"items\" in datos:\n",
    "        return pd.json_normalize(datos[\"items\"]), datos[\"total\"]\n",
    "    return pd.json_normalize(datos), 1"
   ]
  },
  {
   "cell_type": "code",
   "execution_count": null,
   "metadata": {},
   "outputs": [],
   "source": [
    "# Soportes categorías\n",
    "soportes_categorias, total = consultar(\"soportes_categorias\")\n",
    "soportes_categorias.head(8)"
   ]
  },
  {
   "cell_type": "code",
   "execution_count": null,
   "metadata": {},
   "outputs": [],
   "source": [
    "# Rango de fechas a consultar\n",
    "FECHA_DESDE = \"2022-02-14\"\n",
    "FECHA_HASTA = \"2022-02-15\"\n",
    "# Consultar tickets\n",
    "parametros = {\"fecha_desde\": FECHA_DESDE, \"fecha_hasta\": FECHA_HASTA, \"estado\": \"CERRADO\", \"limit\": 50}\n",
    "soportes_tickets, total = consultar(\"soportes_tickets\", parametros)\n",
    "print(\"Total\", total)\n",
    "soportes_tickets.head(8)\n"
   ]
  }
 ],
 "metadata": {
  "interpreter": {
   "hash": "8aaa67f5fff749436f585231123a87706ef0144126d244b1dbd867a0f6241d60"
  },
  "kernelspec": {
   "display_name": "Python 3.10.2 ('venv': venv)",
   "language": "python",
   "name": "python3"
  },
  "language_info": {
   "codemirror_mode": {
    "name": "ipython",
    "version": 3
   },
   "file_extension": ".py",
   "mimetype": "text/x-python",
   "name": "python",
   "nbconvert_exporter": "python",
   "pygments_lexer": "ipython3",
   "version": "3.10.2"
  },
  "orig_nbformat": 4
 },
 "nbformat": 4,
 "nbformat_minor": 2
}
