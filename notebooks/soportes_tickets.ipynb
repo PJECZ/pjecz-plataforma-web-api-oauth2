{
 "cells": [
  {
   "cell_type": "markdown",
   "metadata": {},
   "source": [
    "# Soportes Tickets\n",
    "\n",
    "Si ejecuta en **VSCode** instale `pip install python-dotenv requests pandas ipykernel openpyxl`\n",
    "\n",
    "Si ejecuta **Fedora** con **Jupyter Notebook** en el navegador instale `pip install -U python-dotenv openpyxl`\n",
    "\n",
    "Debe tener una archivo `.env` donde guarde de forma segura su USERNAME y PASSWORD."
   ]
  },
  {
   "cell_type": "code",
   "execution_count": null,
   "metadata": {},
   "outputs": [],
   "source": [
    "# Cargar paquetes\n",
    "import os\n",
    "import pandas as pd\n",
    "import requests"
   ]
  },
  {
   "cell_type": "code",
   "execution_count": null,
   "metadata": {},
   "outputs": [],
   "source": [
    "# Cargar variables de entorno en .env\n",
    "from dotenv import load_dotenv\n",
    "load_dotenv()"
   ]
  },
  {
   "cell_type": "code",
   "execution_count": null,
   "metadata": {},
   "outputs": [],
   "source": [
    "# Hola a Plataforma Web API OAuth2\n",
    "# HOST = \"https://plataforma-web-api-oauth2.justiciadigital.gob.mx/\"\n",
    "HOST = \"http://127.0.0.1:8002\"\n",
    "respuesta = requests.get(HOST)\n",
    "print(respuesta.status_code)\n",
    "print(respuesta.text)"
   ]
  },
  {
   "cell_type": "code",
   "execution_count": null,
   "metadata": {},
   "outputs": [],
   "source": [
    "# Cargar username/password\n",
    "parametros = {\n",
    "    \"username\": os.getenv(\"USERNAME\"),\n",
    "    \"password\": os.getenv(\"PASSWORD\"),\n",
    "}\n",
    "print(parametros[\"username\"], parametros[\"password\"][:4] + \"...\")"
   ]
  },
  {
   "cell_type": "code",
   "execution_count": null,
   "metadata": {},
   "outputs": [],
   "source": [
    "# Solicitar token\n",
    "cabeceras_para_autentificar = {'content-type': \"application/x-www-form-urlencoded\"}\n",
    "respuesta = requests.post(f\"{HOST}/token\", data=parametros, headers=cabeceras_para_autentificar)\n",
    "print(respuesta.status_code)"
   ]
  },
  {
   "cell_type": "code",
   "execution_count": null,
   "metadata": {},
   "outputs": [],
   "source": [
    "# Definir cabeceras_para_api\n",
    "cabeceras_para_api = None\n",
    "if respuesta.status_code == 200:\n",
    "    token = respuesta.json()['access_token']\n",
    "    cabeceras_para_api = {'Authorization': 'Bearer ' + token}\n",
    "print(cabeceras_para_api)"
   ]
  },
  {
   "cell_type": "code",
   "execution_count": null,
   "metadata": {},
   "outputs": [],
   "source": [
    "# Función consultar\n",
    "def consultar(ruta: str, parametros: dict = None):\n",
    "    \"\"\"Consultar la API entrega dos valores: listado/registro, total\"\"\"\n",
    "    try:\n",
    "        respuesta = requests.get(f\"{HOST}/v1/{ruta}\", headers=cabeceras_para_api, params=parametros, timeout=12)\n",
    "    except requests.exceptions.RequestException as error:\n",
    "        raise Exception(\"Parece que hay un error en la consulta: \" + str(error))\n",
    "    if respuesta.status_code != 200:\n",
    "        raise requests.HTTPError(\"Parece que ya caducó el token\")\n",
    "    datos = respuesta.json()\n",
    "    if \"items\" in datos:\n",
    "        return pd.json_normalize(datos[\"items\"]), datos[\"total\"]\n",
    "    return pd.json_normalize(datos), 1"
   ]
  },
  {
   "cell_type": "code",
   "execution_count": null,
   "metadata": {},
   "outputs": [],
   "source": [
    "# Consultar totales de tickets por oficina y por categoria\n",
    "estado = \"TERMINADO\"\n",
    "parametros = {\n",
    "    \"creado_desde\": \"2022-02-28\", \n",
    "    \"creado_hasta\": \"2022-03-04\", \n",
    "    \"estado\": estado, \n",
    "    \"size\": 200,\n",
    "}\n",
    "soportes, total = consultar(\"soportes_tickets/totales\", parametros=parametros)\n",
    "soportes.tail(8)"
   ]
  },
  {
   "cell_type": "code",
   "execution_count": null,
   "metadata": {},
   "outputs": [],
   "source": [
    "# Cambiar el tipo de las columnas a category\n",
    "soportes.distrito_clave = soportes.distrito_clave.astype(\"category\")\n",
    "soportes.soporte_categoria_nombre = soportes.soporte_categoria_nombre.astype(\"category\")\n",
    "soportes.info()"
   ]
  },
  {
   "cell_type": "code",
   "execution_count": null,
   "metadata": {},
   "outputs": [],
   "source": [
    "# Pivot table\n",
    "reporte = soportes.pivot_table(\n",
    "    index=[\"soporte_categoria_nombre\"], \n",
    "    columns=[\"distrito_clave\"], \n",
    "    values=\"cantidad\",\n",
    ")\n",
    "reporte.head(8)"
   ]
  },
  {
   "cell_type": "code",
   "execution_count": null,
   "metadata": {},
   "outputs": [],
   "source": [
    "# Guardar reporte\n",
    "from datetime import date\n",
    "import openpyxl\n",
    "hoy_str = date.today().strftime('%Y-%m-%d')\n",
    "reporte.to_excel(f\"reporte-{estado.lower()}-{hoy_str}.xlsx\")"
   ]
  }
 ],
 "metadata": {
  "interpreter": {
   "hash": "8aaa67f5fff749436f585231123a87706ef0144126d244b1dbd867a0f6241d60"
  },
  "kernelspec": {
   "display_name": "Python 3",
   "language": "python",
   "name": "python3"
  },
  "language_info": {
   "codemirror_mode": {
    "name": "ipython",
    "version": 3
   },
   "file_extension": ".py",
   "mimetype": "text/x-python",
   "name": "python",
   "nbconvert_exporter": "python",
   "pygments_lexer": "ipython3",
   "version": "3.10.2"
  }
 },
 "nbformat": 4,
 "nbformat_minor": 2
}
