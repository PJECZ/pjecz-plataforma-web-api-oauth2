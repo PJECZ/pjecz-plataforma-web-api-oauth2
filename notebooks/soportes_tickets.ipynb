{
 "cells": [
  {
   "cell_type": "markdown",
   "metadata": {},
   "source": [
    "# Versiones Públicas de Sentencias - Divorcios\n",
    "\n",
    "Instale en su entorno virtual los paquetes `pip install python-dotenv requests pandas ipykernel`\n",
    "\n",
    "Debe tener una archivo `.env` donde guarde de forma segura su USERNAME y PASSWORD."
   ]
  },
  {
   "cell_type": "code",
   "execution_count": 1,
   "metadata": {},
   "outputs": [],
   "source": [
    "from dotenv import load_dotenv\n",
    "from IPython.display import display\n",
    "import os\n",
    "import pandas as pd\n",
    "import requests"
   ]
  },
  {
   "cell_type": "code",
   "execution_count": 2,
   "metadata": {},
   "outputs": [
    {
     "ename": "KeyboardInterrupt",
     "evalue": "",
     "output_type": "error",
     "traceback": [
      "\u001b[0;31m---------------------------------------------------------------------------\u001b[0m",
      "\u001b[0;31mKeyboardInterrupt\u001b[0m                         Traceback (most recent call last)",
      "\u001b[1;32m/home/guivaloz/Documents/GitHub/guivaloz/pjecz-plataforma-web-api-oauth2/notebooks/soportes_tickets.ipynb Cell 3'\u001b[0m in \u001b[0;36m<module>\u001b[0;34m\u001b[0m\n\u001b[1;32m      <a href='vscode-notebook-cell:/home/guivaloz/Documents/GitHub/guivaloz/pjecz-plataforma-web-api-oauth2/notebooks/soportes_tickets.ipynb#ch0000002?line=0'>1</a>\u001b[0m \u001b[39m# Hola a Plataforma Web API OAuth2\u001b[39;00m\n\u001b[1;32m      <a href='vscode-notebook-cell:/home/guivaloz/Documents/GitHub/guivaloz/pjecz-plataforma-web-api-oauth2/notebooks/soportes_tickets.ipynb#ch0000002?line=1'>2</a>\u001b[0m HOST \u001b[39m=\u001b[39m \u001b[39m\"\u001b[39m\u001b[39mhttp://localhost:8002\u001b[39m\u001b[39m\"\u001b[39m\n\u001b[0;32m----> <a href='vscode-notebook-cell:/home/guivaloz/Documents/GitHub/guivaloz/pjecz-plataforma-web-api-oauth2/notebooks/soportes_tickets.ipynb#ch0000002?line=2'>3</a>\u001b[0m respuesta \u001b[39m=\u001b[39m requests\u001b[39m.\u001b[39;49mget(HOST)\n\u001b[1;32m      <a href='vscode-notebook-cell:/home/guivaloz/Documents/GitHub/guivaloz/pjecz-plataforma-web-api-oauth2/notebooks/soportes_tickets.ipynb#ch0000002?line=3'>4</a>\u001b[0m \u001b[39mprint\u001b[39m(respuesta\u001b[39m.\u001b[39mstatus_code)\n\u001b[1;32m      <a href='vscode-notebook-cell:/home/guivaloz/Documents/GitHub/guivaloz/pjecz-plataforma-web-api-oauth2/notebooks/soportes_tickets.ipynb#ch0000002?line=4'>5</a>\u001b[0m \u001b[39mprint\u001b[39m(respuesta\u001b[39m.\u001b[39mtext)\n",
      "File \u001b[0;32m~/Documents/GitHub/guivaloz/pjecz-plataforma-web-api-oauth2/venv/lib64/python3.10/site-packages/requests/api.py:75\u001b[0m, in \u001b[0;36mget\u001b[0;34m(url, params, **kwargs)\u001b[0m\n\u001b[1;32m     <a href='file:///~/Documents/GitHub/guivaloz/pjecz-plataforma-web-api-oauth2/venv/lib64/python3.10/site-packages/requests/api.py?line=63'>64</a>\u001b[0m \u001b[39mdef\u001b[39;00m \u001b[39mget\u001b[39m(url, params\u001b[39m=\u001b[39m\u001b[39mNone\u001b[39;00m, \u001b[39m*\u001b[39m\u001b[39m*\u001b[39mkwargs):\n\u001b[1;32m     <a href='file:///~/Documents/GitHub/guivaloz/pjecz-plataforma-web-api-oauth2/venv/lib64/python3.10/site-packages/requests/api.py?line=64'>65</a>\u001b[0m     \u001b[39mr\u001b[39m\u001b[39m\"\"\"Sends a GET request.\u001b[39;00m\n\u001b[1;32m     <a href='file:///~/Documents/GitHub/guivaloz/pjecz-plataforma-web-api-oauth2/venv/lib64/python3.10/site-packages/requests/api.py?line=65'>66</a>\u001b[0m \n\u001b[1;32m     <a href='file:///~/Documents/GitHub/guivaloz/pjecz-plataforma-web-api-oauth2/venv/lib64/python3.10/site-packages/requests/api.py?line=66'>67</a>\u001b[0m \u001b[39m    :param url: URL for the new :class:`Request` object.\u001b[39;00m\n\u001b[0;32m   (...)\u001b[0m\n\u001b[1;32m     <a href='file:///~/Documents/GitHub/guivaloz/pjecz-plataforma-web-api-oauth2/venv/lib64/python3.10/site-packages/requests/api.py?line=71'>72</a>\u001b[0m \u001b[39m    :rtype: requests.Response\u001b[39;00m\n\u001b[1;32m     <a href='file:///~/Documents/GitHub/guivaloz/pjecz-plataforma-web-api-oauth2/venv/lib64/python3.10/site-packages/requests/api.py?line=72'>73</a>\u001b[0m \u001b[39m    \"\"\"\u001b[39;00m\n\u001b[0;32m---> <a href='file:///~/Documents/GitHub/guivaloz/pjecz-plataforma-web-api-oauth2/venv/lib64/python3.10/site-packages/requests/api.py?line=74'>75</a>\u001b[0m     \u001b[39mreturn\u001b[39;00m request(\u001b[39m'\u001b[39;49m\u001b[39mget\u001b[39;49m\u001b[39m'\u001b[39;49m, url, params\u001b[39m=\u001b[39;49mparams, \u001b[39m*\u001b[39;49m\u001b[39m*\u001b[39;49mkwargs)\n",
      "File \u001b[0;32m~/Documents/GitHub/guivaloz/pjecz-plataforma-web-api-oauth2/venv/lib64/python3.10/site-packages/requests/api.py:61\u001b[0m, in \u001b[0;36mrequest\u001b[0;34m(method, url, **kwargs)\u001b[0m\n\u001b[1;32m     <a href='file:///~/Documents/GitHub/guivaloz/pjecz-plataforma-web-api-oauth2/venv/lib64/python3.10/site-packages/requests/api.py?line=56'>57</a>\u001b[0m \u001b[39m# By using the 'with' statement we are sure the session is closed, thus we\u001b[39;00m\n\u001b[1;32m     <a href='file:///~/Documents/GitHub/guivaloz/pjecz-plataforma-web-api-oauth2/venv/lib64/python3.10/site-packages/requests/api.py?line=57'>58</a>\u001b[0m \u001b[39m# avoid leaving sockets open which can trigger a ResourceWarning in some\u001b[39;00m\n\u001b[1;32m     <a href='file:///~/Documents/GitHub/guivaloz/pjecz-plataforma-web-api-oauth2/venv/lib64/python3.10/site-packages/requests/api.py?line=58'>59</a>\u001b[0m \u001b[39m# cases, and look like a memory leak in others.\u001b[39;00m\n\u001b[1;32m     <a href='file:///~/Documents/GitHub/guivaloz/pjecz-plataforma-web-api-oauth2/venv/lib64/python3.10/site-packages/requests/api.py?line=59'>60</a>\u001b[0m \u001b[39mwith\u001b[39;00m sessions\u001b[39m.\u001b[39mSession() \u001b[39mas\u001b[39;00m session:\n\u001b[0;32m---> <a href='file:///~/Documents/GitHub/guivaloz/pjecz-plataforma-web-api-oauth2/venv/lib64/python3.10/site-packages/requests/api.py?line=60'>61</a>\u001b[0m     \u001b[39mreturn\u001b[39;00m session\u001b[39m.\u001b[39;49mrequest(method\u001b[39m=\u001b[39;49mmethod, url\u001b[39m=\u001b[39;49murl, \u001b[39m*\u001b[39;49m\u001b[39m*\u001b[39;49mkwargs)\n",
      "File \u001b[0;32m~/Documents/GitHub/guivaloz/pjecz-plataforma-web-api-oauth2/venv/lib64/python3.10/site-packages/requests/sessions.py:529\u001b[0m, in \u001b[0;36mSession.request\u001b[0;34m(self, method, url, params, data, headers, cookies, files, auth, timeout, allow_redirects, proxies, hooks, stream, verify, cert, json)\u001b[0m\n\u001b[1;32m    <a href='file:///~/Documents/GitHub/guivaloz/pjecz-plataforma-web-api-oauth2/venv/lib64/python3.10/site-packages/requests/sessions.py?line=523'>524</a>\u001b[0m send_kwargs \u001b[39m=\u001b[39m {\n\u001b[1;32m    <a href='file:///~/Documents/GitHub/guivaloz/pjecz-plataforma-web-api-oauth2/venv/lib64/python3.10/site-packages/requests/sessions.py?line=524'>525</a>\u001b[0m     \u001b[39m'\u001b[39m\u001b[39mtimeout\u001b[39m\u001b[39m'\u001b[39m: timeout,\n\u001b[1;32m    <a href='file:///~/Documents/GitHub/guivaloz/pjecz-plataforma-web-api-oauth2/venv/lib64/python3.10/site-packages/requests/sessions.py?line=525'>526</a>\u001b[0m     \u001b[39m'\u001b[39m\u001b[39mallow_redirects\u001b[39m\u001b[39m'\u001b[39m: allow_redirects,\n\u001b[1;32m    <a href='file:///~/Documents/GitHub/guivaloz/pjecz-plataforma-web-api-oauth2/venv/lib64/python3.10/site-packages/requests/sessions.py?line=526'>527</a>\u001b[0m }\n\u001b[1;32m    <a href='file:///~/Documents/GitHub/guivaloz/pjecz-plataforma-web-api-oauth2/venv/lib64/python3.10/site-packages/requests/sessions.py?line=527'>528</a>\u001b[0m send_kwargs\u001b[39m.\u001b[39mupdate(settings)\n\u001b[0;32m--> <a href='file:///~/Documents/GitHub/guivaloz/pjecz-plataforma-web-api-oauth2/venv/lib64/python3.10/site-packages/requests/sessions.py?line=528'>529</a>\u001b[0m resp \u001b[39m=\u001b[39m \u001b[39mself\u001b[39;49m\u001b[39m.\u001b[39;49msend(prep, \u001b[39m*\u001b[39;49m\u001b[39m*\u001b[39;49msend_kwargs)\n\u001b[1;32m    <a href='file:///~/Documents/GitHub/guivaloz/pjecz-plataforma-web-api-oauth2/venv/lib64/python3.10/site-packages/requests/sessions.py?line=530'>531</a>\u001b[0m \u001b[39mreturn\u001b[39;00m resp\n",
      "File \u001b[0;32m~/Documents/GitHub/guivaloz/pjecz-plataforma-web-api-oauth2/venv/lib64/python3.10/site-packages/requests/sessions.py:645\u001b[0m, in \u001b[0;36mSession.send\u001b[0;34m(self, request, **kwargs)\u001b[0m\n\u001b[1;32m    <a href='file:///~/Documents/GitHub/guivaloz/pjecz-plataforma-web-api-oauth2/venv/lib64/python3.10/site-packages/requests/sessions.py?line=641'>642</a>\u001b[0m start \u001b[39m=\u001b[39m preferred_clock()\n\u001b[1;32m    <a href='file:///~/Documents/GitHub/guivaloz/pjecz-plataforma-web-api-oauth2/venv/lib64/python3.10/site-packages/requests/sessions.py?line=643'>644</a>\u001b[0m \u001b[39m# Send the request\u001b[39;00m\n\u001b[0;32m--> <a href='file:///~/Documents/GitHub/guivaloz/pjecz-plataforma-web-api-oauth2/venv/lib64/python3.10/site-packages/requests/sessions.py?line=644'>645</a>\u001b[0m r \u001b[39m=\u001b[39m adapter\u001b[39m.\u001b[39;49msend(request, \u001b[39m*\u001b[39;49m\u001b[39m*\u001b[39;49mkwargs)\n\u001b[1;32m    <a href='file:///~/Documents/GitHub/guivaloz/pjecz-plataforma-web-api-oauth2/venv/lib64/python3.10/site-packages/requests/sessions.py?line=646'>647</a>\u001b[0m \u001b[39m# Total elapsed time of the request (approximately)\u001b[39;00m\n\u001b[1;32m    <a href='file:///~/Documents/GitHub/guivaloz/pjecz-plataforma-web-api-oauth2/venv/lib64/python3.10/site-packages/requests/sessions.py?line=647'>648</a>\u001b[0m elapsed \u001b[39m=\u001b[39m preferred_clock() \u001b[39m-\u001b[39m start\n",
      "File \u001b[0;32m~/Documents/GitHub/guivaloz/pjecz-plataforma-web-api-oauth2/venv/lib64/python3.10/site-packages/requests/adapters.py:440\u001b[0m, in \u001b[0;36mHTTPAdapter.send\u001b[0;34m(self, request, stream, timeout, verify, cert, proxies)\u001b[0m\n\u001b[1;32m    <a href='file:///~/Documents/GitHub/guivaloz/pjecz-plataforma-web-api-oauth2/venv/lib64/python3.10/site-packages/requests/adapters.py?line=437'>438</a>\u001b[0m \u001b[39mtry\u001b[39;00m:\n\u001b[1;32m    <a href='file:///~/Documents/GitHub/guivaloz/pjecz-plataforma-web-api-oauth2/venv/lib64/python3.10/site-packages/requests/adapters.py?line=438'>439</a>\u001b[0m     \u001b[39mif\u001b[39;00m \u001b[39mnot\u001b[39;00m chunked:\n\u001b[0;32m--> <a href='file:///~/Documents/GitHub/guivaloz/pjecz-plataforma-web-api-oauth2/venv/lib64/python3.10/site-packages/requests/adapters.py?line=439'>440</a>\u001b[0m         resp \u001b[39m=\u001b[39m conn\u001b[39m.\u001b[39;49murlopen(\n\u001b[1;32m    <a href='file:///~/Documents/GitHub/guivaloz/pjecz-plataforma-web-api-oauth2/venv/lib64/python3.10/site-packages/requests/adapters.py?line=440'>441</a>\u001b[0m             method\u001b[39m=\u001b[39;49mrequest\u001b[39m.\u001b[39;49mmethod,\n\u001b[1;32m    <a href='file:///~/Documents/GitHub/guivaloz/pjecz-plataforma-web-api-oauth2/venv/lib64/python3.10/site-packages/requests/adapters.py?line=441'>442</a>\u001b[0m             url\u001b[39m=\u001b[39;49murl,\n\u001b[1;32m    <a href='file:///~/Documents/GitHub/guivaloz/pjecz-plataforma-web-api-oauth2/venv/lib64/python3.10/site-packages/requests/adapters.py?line=442'>443</a>\u001b[0m             body\u001b[39m=\u001b[39;49mrequest\u001b[39m.\u001b[39;49mbody,\n\u001b[1;32m    <a href='file:///~/Documents/GitHub/guivaloz/pjecz-plataforma-web-api-oauth2/venv/lib64/python3.10/site-packages/requests/adapters.py?line=443'>444</a>\u001b[0m             headers\u001b[39m=\u001b[39;49mrequest\u001b[39m.\u001b[39;49mheaders,\n\u001b[1;32m    <a href='file:///~/Documents/GitHub/guivaloz/pjecz-plataforma-web-api-oauth2/venv/lib64/python3.10/site-packages/requests/adapters.py?line=444'>445</a>\u001b[0m             redirect\u001b[39m=\u001b[39;49m\u001b[39mFalse\u001b[39;49;00m,\n\u001b[1;32m    <a href='file:///~/Documents/GitHub/guivaloz/pjecz-plataforma-web-api-oauth2/venv/lib64/python3.10/site-packages/requests/adapters.py?line=445'>446</a>\u001b[0m             assert_same_host\u001b[39m=\u001b[39;49m\u001b[39mFalse\u001b[39;49;00m,\n\u001b[1;32m    <a href='file:///~/Documents/GitHub/guivaloz/pjecz-plataforma-web-api-oauth2/venv/lib64/python3.10/site-packages/requests/adapters.py?line=446'>447</a>\u001b[0m             preload_content\u001b[39m=\u001b[39;49m\u001b[39mFalse\u001b[39;49;00m,\n\u001b[1;32m    <a href='file:///~/Documents/GitHub/guivaloz/pjecz-plataforma-web-api-oauth2/venv/lib64/python3.10/site-packages/requests/adapters.py?line=447'>448</a>\u001b[0m             decode_content\u001b[39m=\u001b[39;49m\u001b[39mFalse\u001b[39;49;00m,\n\u001b[1;32m    <a href='file:///~/Documents/GitHub/guivaloz/pjecz-plataforma-web-api-oauth2/venv/lib64/python3.10/site-packages/requests/adapters.py?line=448'>449</a>\u001b[0m             retries\u001b[39m=\u001b[39;49m\u001b[39mself\u001b[39;49m\u001b[39m.\u001b[39;49mmax_retries,\n\u001b[1;32m    <a href='file:///~/Documents/GitHub/guivaloz/pjecz-plataforma-web-api-oauth2/venv/lib64/python3.10/site-packages/requests/adapters.py?line=449'>450</a>\u001b[0m             timeout\u001b[39m=\u001b[39;49mtimeout\n\u001b[1;32m    <a href='file:///~/Documents/GitHub/guivaloz/pjecz-plataforma-web-api-oauth2/venv/lib64/python3.10/site-packages/requests/adapters.py?line=450'>451</a>\u001b[0m         )\n\u001b[1;32m    <a href='file:///~/Documents/GitHub/guivaloz/pjecz-plataforma-web-api-oauth2/venv/lib64/python3.10/site-packages/requests/adapters.py?line=452'>453</a>\u001b[0m     \u001b[39m# Send the request.\u001b[39;00m\n\u001b[1;32m    <a href='file:///~/Documents/GitHub/guivaloz/pjecz-plataforma-web-api-oauth2/venv/lib64/python3.10/site-packages/requests/adapters.py?line=453'>454</a>\u001b[0m     \u001b[39melse\u001b[39;00m:\n\u001b[1;32m    <a href='file:///~/Documents/GitHub/guivaloz/pjecz-plataforma-web-api-oauth2/venv/lib64/python3.10/site-packages/requests/adapters.py?line=454'>455</a>\u001b[0m         \u001b[39mif\u001b[39;00m \u001b[39mhasattr\u001b[39m(conn, \u001b[39m'\u001b[39m\u001b[39mproxy_pool\u001b[39m\u001b[39m'\u001b[39m):\n",
      "File \u001b[0;32m~/Documents/GitHub/guivaloz/pjecz-plataforma-web-api-oauth2/venv/lib64/python3.10/site-packages/urllib3/connectionpool.py:703\u001b[0m, in \u001b[0;36mHTTPConnectionPool.urlopen\u001b[0;34m(self, method, url, body, headers, retries, redirect, assert_same_host, timeout, pool_timeout, release_conn, chunked, body_pos, **response_kw)\u001b[0m\n\u001b[1;32m    <a href='file:///~/Documents/GitHub/guivaloz/pjecz-plataforma-web-api-oauth2/venv/lib64/python3.10/site-packages/urllib3/connectionpool.py?line=699'>700</a>\u001b[0m     \u001b[39mself\u001b[39m\u001b[39m.\u001b[39m_prepare_proxy(conn)\n\u001b[1;32m    <a href='file:///~/Documents/GitHub/guivaloz/pjecz-plataforma-web-api-oauth2/venv/lib64/python3.10/site-packages/urllib3/connectionpool.py?line=701'>702</a>\u001b[0m \u001b[39m# Make the request on the httplib connection object.\u001b[39;00m\n\u001b[0;32m--> <a href='file:///~/Documents/GitHub/guivaloz/pjecz-plataforma-web-api-oauth2/venv/lib64/python3.10/site-packages/urllib3/connectionpool.py?line=702'>703</a>\u001b[0m httplib_response \u001b[39m=\u001b[39m \u001b[39mself\u001b[39;49m\u001b[39m.\u001b[39;49m_make_request(\n\u001b[1;32m    <a href='file:///~/Documents/GitHub/guivaloz/pjecz-plataforma-web-api-oauth2/venv/lib64/python3.10/site-packages/urllib3/connectionpool.py?line=703'>704</a>\u001b[0m     conn,\n\u001b[1;32m    <a href='file:///~/Documents/GitHub/guivaloz/pjecz-plataforma-web-api-oauth2/venv/lib64/python3.10/site-packages/urllib3/connectionpool.py?line=704'>705</a>\u001b[0m     method,\n\u001b[1;32m    <a href='file:///~/Documents/GitHub/guivaloz/pjecz-plataforma-web-api-oauth2/venv/lib64/python3.10/site-packages/urllib3/connectionpool.py?line=705'>706</a>\u001b[0m     url,\n\u001b[1;32m    <a href='file:///~/Documents/GitHub/guivaloz/pjecz-plataforma-web-api-oauth2/venv/lib64/python3.10/site-packages/urllib3/connectionpool.py?line=706'>707</a>\u001b[0m     timeout\u001b[39m=\u001b[39;49mtimeout_obj,\n\u001b[1;32m    <a href='file:///~/Documents/GitHub/guivaloz/pjecz-plataforma-web-api-oauth2/venv/lib64/python3.10/site-packages/urllib3/connectionpool.py?line=707'>708</a>\u001b[0m     body\u001b[39m=\u001b[39;49mbody,\n\u001b[1;32m    <a href='file:///~/Documents/GitHub/guivaloz/pjecz-plataforma-web-api-oauth2/venv/lib64/python3.10/site-packages/urllib3/connectionpool.py?line=708'>709</a>\u001b[0m     headers\u001b[39m=\u001b[39;49mheaders,\n\u001b[1;32m    <a href='file:///~/Documents/GitHub/guivaloz/pjecz-plataforma-web-api-oauth2/venv/lib64/python3.10/site-packages/urllib3/connectionpool.py?line=709'>710</a>\u001b[0m     chunked\u001b[39m=\u001b[39;49mchunked,\n\u001b[1;32m    <a href='file:///~/Documents/GitHub/guivaloz/pjecz-plataforma-web-api-oauth2/venv/lib64/python3.10/site-packages/urllib3/connectionpool.py?line=710'>711</a>\u001b[0m )\n\u001b[1;32m    <a href='file:///~/Documents/GitHub/guivaloz/pjecz-plataforma-web-api-oauth2/venv/lib64/python3.10/site-packages/urllib3/connectionpool.py?line=712'>713</a>\u001b[0m \u001b[39m# If we're going to release the connection in ``finally:``, then\u001b[39;00m\n\u001b[1;32m    <a href='file:///~/Documents/GitHub/guivaloz/pjecz-plataforma-web-api-oauth2/venv/lib64/python3.10/site-packages/urllib3/connectionpool.py?line=713'>714</a>\u001b[0m \u001b[39m# the response doesn't need to know about the connection. Otherwise\u001b[39;00m\n\u001b[1;32m    <a href='file:///~/Documents/GitHub/guivaloz/pjecz-plataforma-web-api-oauth2/venv/lib64/python3.10/site-packages/urllib3/connectionpool.py?line=714'>715</a>\u001b[0m \u001b[39m# it will also try to release it and we'll have a double-release\u001b[39;00m\n\u001b[1;32m    <a href='file:///~/Documents/GitHub/guivaloz/pjecz-plataforma-web-api-oauth2/venv/lib64/python3.10/site-packages/urllib3/connectionpool.py?line=715'>716</a>\u001b[0m \u001b[39m# mess.\u001b[39;00m\n\u001b[1;32m    <a href='file:///~/Documents/GitHub/guivaloz/pjecz-plataforma-web-api-oauth2/venv/lib64/python3.10/site-packages/urllib3/connectionpool.py?line=716'>717</a>\u001b[0m response_conn \u001b[39m=\u001b[39m conn \u001b[39mif\u001b[39;00m \u001b[39mnot\u001b[39;00m release_conn \u001b[39melse\u001b[39;00m \u001b[39mNone\u001b[39;00m\n",
      "File \u001b[0;32m~/Documents/GitHub/guivaloz/pjecz-plataforma-web-api-oauth2/venv/lib64/python3.10/site-packages/urllib3/connectionpool.py:449\u001b[0m, in \u001b[0;36mHTTPConnectionPool._make_request\u001b[0;34m(self, conn, method, url, timeout, chunked, **httplib_request_kw)\u001b[0m\n\u001b[1;32m    <a href='file:///~/Documents/GitHub/guivaloz/pjecz-plataforma-web-api-oauth2/venv/lib64/python3.10/site-packages/urllib3/connectionpool.py?line=443'>444</a>\u001b[0m             httplib_response \u001b[39m=\u001b[39m conn\u001b[39m.\u001b[39mgetresponse()\n\u001b[1;32m    <a href='file:///~/Documents/GitHub/guivaloz/pjecz-plataforma-web-api-oauth2/venv/lib64/python3.10/site-packages/urllib3/connectionpool.py?line=444'>445</a>\u001b[0m         \u001b[39mexcept\u001b[39;00m \u001b[39mBaseException\u001b[39;00m \u001b[39mas\u001b[39;00m e:\n\u001b[1;32m    <a href='file:///~/Documents/GitHub/guivaloz/pjecz-plataforma-web-api-oauth2/venv/lib64/python3.10/site-packages/urllib3/connectionpool.py?line=445'>446</a>\u001b[0m             \u001b[39m# Remove the TypeError from the exception chain in\u001b[39;00m\n\u001b[1;32m    <a href='file:///~/Documents/GitHub/guivaloz/pjecz-plataforma-web-api-oauth2/venv/lib64/python3.10/site-packages/urllib3/connectionpool.py?line=446'>447</a>\u001b[0m             \u001b[39m# Python 3 (including for exceptions like SystemExit).\u001b[39;00m\n\u001b[1;32m    <a href='file:///~/Documents/GitHub/guivaloz/pjecz-plataforma-web-api-oauth2/venv/lib64/python3.10/site-packages/urllib3/connectionpool.py?line=447'>448</a>\u001b[0m             \u001b[39m# Otherwise it looks like a bug in the code.\u001b[39;00m\n\u001b[0;32m--> <a href='file:///~/Documents/GitHub/guivaloz/pjecz-plataforma-web-api-oauth2/venv/lib64/python3.10/site-packages/urllib3/connectionpool.py?line=448'>449</a>\u001b[0m             six\u001b[39m.\u001b[39;49mraise_from(e, \u001b[39mNone\u001b[39;49;00m)\n\u001b[1;32m    <a href='file:///~/Documents/GitHub/guivaloz/pjecz-plataforma-web-api-oauth2/venv/lib64/python3.10/site-packages/urllib3/connectionpool.py?line=449'>450</a>\u001b[0m \u001b[39mexcept\u001b[39;00m (SocketTimeout, BaseSSLError, SocketError) \u001b[39mas\u001b[39;00m e:\n\u001b[1;32m    <a href='file:///~/Documents/GitHub/guivaloz/pjecz-plataforma-web-api-oauth2/venv/lib64/python3.10/site-packages/urllib3/connectionpool.py?line=450'>451</a>\u001b[0m     \u001b[39mself\u001b[39m\u001b[39m.\u001b[39m_raise_timeout(err\u001b[39m=\u001b[39me, url\u001b[39m=\u001b[39murl, timeout_value\u001b[39m=\u001b[39mread_timeout)\n",
      "File \u001b[0;32m<string>:3\u001b[0m, in \u001b[0;36mraise_from\u001b[0;34m(value, from_value)\u001b[0m\n",
      "File \u001b[0;32m~/Documents/GitHub/guivaloz/pjecz-plataforma-web-api-oauth2/venv/lib64/python3.10/site-packages/urllib3/connectionpool.py:444\u001b[0m, in \u001b[0;36mHTTPConnectionPool._make_request\u001b[0;34m(self, conn, method, url, timeout, chunked, **httplib_request_kw)\u001b[0m\n\u001b[1;32m    <a href='file:///~/Documents/GitHub/guivaloz/pjecz-plataforma-web-api-oauth2/venv/lib64/python3.10/site-packages/urllib3/connectionpool.py?line=440'>441</a>\u001b[0m \u001b[39mexcept\u001b[39;00m \u001b[39mTypeError\u001b[39;00m:\n\u001b[1;32m    <a href='file:///~/Documents/GitHub/guivaloz/pjecz-plataforma-web-api-oauth2/venv/lib64/python3.10/site-packages/urllib3/connectionpool.py?line=441'>442</a>\u001b[0m     \u001b[39m# Python 3\u001b[39;00m\n\u001b[1;32m    <a href='file:///~/Documents/GitHub/guivaloz/pjecz-plataforma-web-api-oauth2/venv/lib64/python3.10/site-packages/urllib3/connectionpool.py?line=442'>443</a>\u001b[0m     \u001b[39mtry\u001b[39;00m:\n\u001b[0;32m--> <a href='file:///~/Documents/GitHub/guivaloz/pjecz-plataforma-web-api-oauth2/venv/lib64/python3.10/site-packages/urllib3/connectionpool.py?line=443'>444</a>\u001b[0m         httplib_response \u001b[39m=\u001b[39m conn\u001b[39m.\u001b[39;49mgetresponse()\n\u001b[1;32m    <a href='file:///~/Documents/GitHub/guivaloz/pjecz-plataforma-web-api-oauth2/venv/lib64/python3.10/site-packages/urllib3/connectionpool.py?line=444'>445</a>\u001b[0m     \u001b[39mexcept\u001b[39;00m \u001b[39mBaseException\u001b[39;00m \u001b[39mas\u001b[39;00m e:\n\u001b[1;32m    <a href='file:///~/Documents/GitHub/guivaloz/pjecz-plataforma-web-api-oauth2/venv/lib64/python3.10/site-packages/urllib3/connectionpool.py?line=445'>446</a>\u001b[0m         \u001b[39m# Remove the TypeError from the exception chain in\u001b[39;00m\n\u001b[1;32m    <a href='file:///~/Documents/GitHub/guivaloz/pjecz-plataforma-web-api-oauth2/venv/lib64/python3.10/site-packages/urllib3/connectionpool.py?line=446'>447</a>\u001b[0m         \u001b[39m# Python 3 (including for exceptions like SystemExit).\u001b[39;00m\n\u001b[1;32m    <a href='file:///~/Documents/GitHub/guivaloz/pjecz-plataforma-web-api-oauth2/venv/lib64/python3.10/site-packages/urllib3/connectionpool.py?line=447'>448</a>\u001b[0m         \u001b[39m# Otherwise it looks like a bug in the code.\u001b[39;00m\n\u001b[1;32m    <a href='file:///~/Documents/GitHub/guivaloz/pjecz-plataforma-web-api-oauth2/venv/lib64/python3.10/site-packages/urllib3/connectionpool.py?line=448'>449</a>\u001b[0m         six\u001b[39m.\u001b[39mraise_from(e, \u001b[39mNone\u001b[39;00m)\n",
      "File \u001b[0;32m/usr/lib64/python3.10/http/client.py:1374\u001b[0m, in \u001b[0;36mHTTPConnection.getresponse\u001b[0;34m(self)\u001b[0m\n\u001b[1;32m   <a href='file:///usr/lib64/python3.10/http/client.py?line=1371'>1372</a>\u001b[0m \u001b[39mtry\u001b[39;00m:\n\u001b[1;32m   <a href='file:///usr/lib64/python3.10/http/client.py?line=1372'>1373</a>\u001b[0m     \u001b[39mtry\u001b[39;00m:\n\u001b[0;32m-> <a href='file:///usr/lib64/python3.10/http/client.py?line=1373'>1374</a>\u001b[0m         response\u001b[39m.\u001b[39;49mbegin()\n\u001b[1;32m   <a href='file:///usr/lib64/python3.10/http/client.py?line=1374'>1375</a>\u001b[0m     \u001b[39mexcept\u001b[39;00m \u001b[39mConnectionError\u001b[39;00m:\n\u001b[1;32m   <a href='file:///usr/lib64/python3.10/http/client.py?line=1375'>1376</a>\u001b[0m         \u001b[39mself\u001b[39m\u001b[39m.\u001b[39mclose()\n",
      "File \u001b[0;32m/usr/lib64/python3.10/http/client.py:318\u001b[0m, in \u001b[0;36mHTTPResponse.begin\u001b[0;34m(self)\u001b[0m\n\u001b[1;32m    <a href='file:///usr/lib64/python3.10/http/client.py?line=315'>316</a>\u001b[0m \u001b[39m# read until we get a non-100 response\u001b[39;00m\n\u001b[1;32m    <a href='file:///usr/lib64/python3.10/http/client.py?line=316'>317</a>\u001b[0m \u001b[39mwhile\u001b[39;00m \u001b[39mTrue\u001b[39;00m:\n\u001b[0;32m--> <a href='file:///usr/lib64/python3.10/http/client.py?line=317'>318</a>\u001b[0m     version, status, reason \u001b[39m=\u001b[39m \u001b[39mself\u001b[39;49m\u001b[39m.\u001b[39;49m_read_status()\n\u001b[1;32m    <a href='file:///usr/lib64/python3.10/http/client.py?line=318'>319</a>\u001b[0m     \u001b[39mif\u001b[39;00m status \u001b[39m!=\u001b[39m CONTINUE:\n\u001b[1;32m    <a href='file:///usr/lib64/python3.10/http/client.py?line=319'>320</a>\u001b[0m         \u001b[39mbreak\u001b[39;00m\n",
      "File \u001b[0;32m/usr/lib64/python3.10/http/client.py:279\u001b[0m, in \u001b[0;36mHTTPResponse._read_status\u001b[0;34m(self)\u001b[0m\n\u001b[1;32m    <a href='file:///usr/lib64/python3.10/http/client.py?line=277'>278</a>\u001b[0m \u001b[39mdef\u001b[39;00m \u001b[39m_read_status\u001b[39m(\u001b[39mself\u001b[39m):\n\u001b[0;32m--> <a href='file:///usr/lib64/python3.10/http/client.py?line=278'>279</a>\u001b[0m     line \u001b[39m=\u001b[39m \u001b[39mstr\u001b[39m(\u001b[39mself\u001b[39;49m\u001b[39m.\u001b[39;49mfp\u001b[39m.\u001b[39;49mreadline(_MAXLINE \u001b[39m+\u001b[39;49m \u001b[39m1\u001b[39;49m), \u001b[39m\"\u001b[39m\u001b[39miso-8859-1\u001b[39m\u001b[39m\"\u001b[39m)\n\u001b[1;32m    <a href='file:///usr/lib64/python3.10/http/client.py?line=279'>280</a>\u001b[0m     \u001b[39mif\u001b[39;00m \u001b[39mlen\u001b[39m(line) \u001b[39m>\u001b[39m _MAXLINE:\n\u001b[1;32m    <a href='file:///usr/lib64/python3.10/http/client.py?line=280'>281</a>\u001b[0m         \u001b[39mraise\u001b[39;00m LineTooLong(\u001b[39m\"\u001b[39m\u001b[39mstatus line\u001b[39m\u001b[39m\"\u001b[39m)\n",
      "File \u001b[0;32m/usr/lib64/python3.10/socket.py:705\u001b[0m, in \u001b[0;36mSocketIO.readinto\u001b[0;34m(self, b)\u001b[0m\n\u001b[1;32m    <a href='file:///usr/lib64/python3.10/socket.py?line=702'>703</a>\u001b[0m \u001b[39mwhile\u001b[39;00m \u001b[39mTrue\u001b[39;00m:\n\u001b[1;32m    <a href='file:///usr/lib64/python3.10/socket.py?line=703'>704</a>\u001b[0m     \u001b[39mtry\u001b[39;00m:\n\u001b[0;32m--> <a href='file:///usr/lib64/python3.10/socket.py?line=704'>705</a>\u001b[0m         \u001b[39mreturn\u001b[39;00m \u001b[39mself\u001b[39;49m\u001b[39m.\u001b[39;49m_sock\u001b[39m.\u001b[39;49mrecv_into(b)\n\u001b[1;32m    <a href='file:///usr/lib64/python3.10/socket.py?line=705'>706</a>\u001b[0m     \u001b[39mexcept\u001b[39;00m timeout:\n\u001b[1;32m    <a href='file:///usr/lib64/python3.10/socket.py?line=706'>707</a>\u001b[0m         \u001b[39mself\u001b[39m\u001b[39m.\u001b[39m_timeout_occurred \u001b[39m=\u001b[39m \u001b[39mTrue\u001b[39;00m\n",
      "\u001b[0;31mKeyboardInterrupt\u001b[0m: "
     ]
    }
   ],
   "source": [
    "# Hola a Plataforma Web API OAuth2\n",
    "HOST = \"http://localhost:8002\"\n",
    "respuesta = requests.get(HOST)\n",
    "print(respuesta.status_code)\n",
    "print(respuesta.text)"
   ]
  },
  {
   "cell_type": "code",
   "execution_count": null,
   "metadata": {},
   "outputs": [],
   "source": [
    "# Cargar username/password\n",
    "load_dotenv()\n",
    "parametros = {\n",
    "    \"username\": os.getenv(\"USERNAME\"),\n",
    "    \"password\": os.getenv(\"PASSWORD\"),\n",
    "}\n",
    "print(parametros[\"username\"])"
   ]
  },
  {
   "cell_type": "code",
   "execution_count": null,
   "metadata": {},
   "outputs": [],
   "source": [
    "# Solicitar token\n",
    "cabeceras_para_autentificar = {'content-type': \"application/x-www-form-urlencoded\"}\n",
    "respuesta = requests.post(f\"{HOST}/token\", data=parametros, headers=cabeceras_para_autentificar)\n",
    "print(respuesta.status_code)"
   ]
  },
  {
   "cell_type": "code",
   "execution_count": null,
   "metadata": {},
   "outputs": [],
   "source": [
    "# Definir cabeceras_para_api\n",
    "cabeceras_para_api = None\n",
    "if respuesta.status_code == 200:\n",
    "    token = respuesta.json()['access_token']\n",
    "    cabeceras_para_api = {'Authorization': 'Bearer ' + token}\n",
    "print(cabeceras_para_api)"
   ]
  },
  {
   "cell_type": "code",
   "execution_count": null,
   "metadata": {},
   "outputs": [],
   "source": [
    "# Función consultar\n",
    "def consultar(ruta: str, parametros: dict = None):\n",
    "    \"\"\"Consultar la API entrega dos valores: listado/registro, total\"\"\"\n",
    "    try:\n",
    "        respuesta = requests.get(f\"{HOST}/v1/{ruta}\", headers=cabeceras_para_api, params=parametros, timeout=12)\n",
    "    except requests.exceptions.RequestException as error:\n",
    "        raise Exception(\"Parece que hay un error en la consulta: \" + str(error))\n",
    "    #print(respuesta.status_code)\n",
    "    if respuesta.status_code != 200:\n",
    "        raise requests.HTTPError(\"Parece que ya caducó el token\")\n",
    "    datos = respuesta.json()\n",
    "    if \"items\" in datos:\n",
    "        return pd.json_normalize(datos[\"items\"]), datos[\"total\"]\n",
    "    return pd.json_normalize(datos), 1"
   ]
  },
  {
   "cell_type": "code",
   "execution_count": null,
   "metadata": {},
   "outputs": [],
   "source": [
    "# Soportes categorías\n",
    "soportes_categorias, total = consultar(\"soportes_categorias\")\n",
    "soportes_categorias.head(8)"
   ]
  },
  {
   "cell_type": "code",
   "execution_count": null,
   "metadata": {},
   "outputs": [],
   "source": [
    "# Rango de fechas a consultar\n",
    "FECHA_DESDE = \"2022-02-14\"\n",
    "FECHA_HASTA = \"2022-02-15\"\n",
    "# Consultar tickets\n",
    "parametros = {\"fecha_desde\": FECHA_DESDE, \"fecha_hasta\": FECHA_HASTA, \"limit\": 50}\n",
    "soportes_tickets, total = consultar(\"soportes_tickets\", parametros)\n",
    "print(\"Total\", total)\n",
    "soportes_tickets.head(8)\n"
   ]
  }
 ],
 "metadata": {
  "interpreter": {
   "hash": "8aaa67f5fff749436f585231123a87706ef0144126d244b1dbd867a0f6241d60"
  },
  "kernelspec": {
   "display_name": "Python 3.10.2 ('venv': venv)",
   "language": "python",
   "name": "python3"
  },
  "language_info": {
   "codemirror_mode": {
    "name": "ipython",
    "version": 3
   },
   "file_extension": ".py",
   "mimetype": "text/x-python",
   "name": "python",
   "nbconvert_exporter": "python",
   "pygments_lexer": "ipython3",
   "version": "3.10.2"
  },
  "orig_nbformat": 4
 },
 "nbformat": 4,
 "nbformat_minor": 2
}
