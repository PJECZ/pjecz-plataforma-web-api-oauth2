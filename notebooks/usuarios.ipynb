{
 "metadata": {
  "language_info": {
   "codemirror_mode": {
    "name": "ipython",
    "version": 3
   },
   "file_extension": ".py",
   "mimetype": "text/x-python",
   "name": "python",
   "nbconvert_exporter": "python",
   "pygments_lexer": "ipython3",
   "version": "3.9.6"
  },
  "orig_nbformat": 4,
  "kernelspec": {
   "name": "python3",
   "display_name": "Python 3.9.6 64-bit ('venv')"
  },
  "interpreter": {
   "hash": "3911d25efcfeafda209469a362f1e5e9c2b6cb415d672c3158489448101c69f1"
  }
 },
 "nbformat": 4,
 "nbformat_minor": 2,
 "cells": [
  {
   "cell_type": "markdown",
   "source": [
    "# Usuarios"
   ],
   "metadata": {}
  },
  {
   "cell_type": "code",
   "execution_count": 1,
   "source": [
    "# SQAlchemy\n",
    "from sqlalchemy import create_engine\n",
    "from sqlalchemy.orm import sessionmaker\n",
    "\n",
    "# Cargar configuración\n",
    "from instance.settings import SQLALCHEMY_DATABASE_URI\n",
    "\n",
    "# Crear la sesión a la base de datos\n",
    "engine = create_engine(SQLALCHEMY_DATABASE_URI)\n",
    "session_local = sessionmaker(autocommit=False, autoflush=False, bind=engine)"
   ],
   "outputs": [],
   "metadata": {}
  },
  {
   "cell_type": "code",
   "execution_count": 7,
   "source": [
    "# Cargar todos los modelos (si hace cambios en cualquiera de ellos, borre las salidas y reinicie el kernel)\n",
    "from plataforma_web.autoridades.models import Autoridad\n",
    "from plataforma_web.distritos.models import Distrito\n",
    "from plataforma_web.listas_de_acuerdos.models import ListaDeAcuerdo\n",
    "from plataforma_web.listas_de_acuerdos_acuerdos.models import ListaDeAcuerdoAcuerdo\n",
    "from plataforma_web.materias.models import Materia\n",
    "from plataforma_web.roles.models import Rol, Permiso\n",
    "from plataforma_web.usuarios.models import Usuario"
   ],
   "outputs": [],
   "metadata": {}
  },
  {
   "cell_type": "code",
   "execution_count": 9,
   "source": [
    "# Consultar usuarios, roles y si tiene permiso para ver cuentas\n",
    "with session_local() as db:\n",
    "    for usuario, rol in db.query(Usuario, Rol).join(Rol).order_by(Usuario.email).limit(10).all():\n",
    "        print(usuario.email, rol.nombre, rol.has_permission(Permiso.VER_CATALOGOS))"
   ],
   "outputs": [
    {
     "output_type": "stream",
     "name": "stdout",
     "text": [
      "acn.civil.familiar@pjecz.gob.mx JUZGADO False\n",
      "acn.defensoria@pjecz.gob.mx USUARIO False\n",
      "acn.familiar@pjecz.gob.mx JUZGADO False\n",
      "acn.penal.acusatorio.oral.b@pjecz.gob.mx JUZGADO False\n",
      "acn.penal.acusatorio.oral@pjecz.gob.mx JUZGADO False\n",
      "alejandro.delbosque@pjecz.gob.mx SOPORTE TECNICO True\n",
      "anamaria.martinez@pjecz.gob.mx ADMINISTRADOR True\n",
      "archivo@pjecz.gob.mx USUARIO False\n",
      "auditoria.interna@pjecz.gob.mx USUARIO False\n",
      "benjamin.tejeida@pjecz.gob.mx USUARIO False\n"
     ]
    }
   ],
   "metadata": {}
  },
  {
   "cell_type": "code",
   "execution_count": null,
   "source": [],
   "outputs": [],
   "metadata": {}
  }
 ]
}