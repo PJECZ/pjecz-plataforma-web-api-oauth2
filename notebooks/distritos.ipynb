{
 "cells": [
  {
   "cell_type": "markdown",
   "source": [
    "# Distritos\n",
    "\n",
    "Demostración del uso de la API con OAuth2 a Localhost."
   ],
   "metadata": {}
  },
  {
   "cell_type": "code",
   "execution_count": null,
   "source": [
    "from dotenv import load_dotenv\n",
    "import os\n",
    "import pandas as pd\n",
    "import requests"
   ],
   "outputs": [],
   "metadata": {}
  },
  {
   "cell_type": "code",
   "execution_count": null,
   "source": [
    "# Prueba a localhost\n",
    "HOST = \"http://localhost:8002\"\n",
    "session = requests.Session()\n",
    "session.trust_env = False\n",
    "response = session.get(HOST)\n",
    "print(response.status_code)"
   ],
   "outputs": [],
   "metadata": {}
  },
  {
   "cell_type": "code",
   "execution_count": null,
   "source": [
    "# Cargar username/password y solicitar token\n",
    "load_dotenv()\n",
    "parameters = {\n",
    "    \"username\": os.getenv(\"USERNAME\"),\n",
    "    \"password\": os.getenv(\"PASSWORD\"),\n",
    "}\n",
    "print(parameters)\n",
    "headers = {'content-type': \"application/x-www-form-urlencoded\"}\n",
    "response = session.post(f\"{HOST}/token\", data=parameters, headers=headers)\n",
    "if response.status_code == 200:\n",
    "    access_token = response.json()['access_token']\n",
    "    print(access_token)\n",
    "    api_call_headers = {'Authorization': 'Bearer ' + access_token}"
   ],
   "outputs": [],
   "metadata": {}
  },
  {
   "cell_type": "code",
   "execution_count": null,
   "source": [
    "# Distritos\n",
    "response = session.get(f\"{HOST}/v1/distritos\", headers=api_call_headers, verify=False)\n",
    "print(response.status_code)\n",
    "if response.status_code == 200:\n",
    "    data = response.json()\n",
    "    distritos = pd.json_normalize(data[\"items\"])\n",
    "distritos.head()"
   ],
   "outputs": [],
   "metadata": {}
  }
 ],
 "metadata": {
  "orig_nbformat": 4,
  "language_info": {
   "name": "python",
   "version": "3.9.7",
   "mimetype": "text/x-python",
   "codemirror_mode": {
    "name": "ipython",
    "version": 3
   },
   "pygments_lexer": "ipython3",
   "nbconvert_exporter": "python",
   "file_extension": ".py"
  },
  "kernelspec": {
   "name": "python3",
   "display_name": "Python 3.9.7 64-bit ('venv': venv)"
  },
  "interpreter": {
   "hash": "8e185416734fb21d439ee8e7e86ae9e406f1d8408df3186f34a69c73d07abc00"
  }
 },
 "nbformat": 4,
 "nbformat_minor": 2
}