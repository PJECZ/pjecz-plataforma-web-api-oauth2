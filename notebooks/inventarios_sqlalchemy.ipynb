{
 "cells": [
  {
   "cell_type": "markdown",
   "metadata": {},
   "source": [
    "# Inventarios SQLAlchemy"
   ]
  },
  {
   "cell_type": "code",
   "execution_count": null,
   "metadata": {},
   "outputs": [],
   "source": [
    "# Cargar paquetes e iniciar sesion a la BD\n",
    "from datetime import datetime\n",
    "from tabulate import tabulate\n",
    "from sqlalchemy.sql import func\n",
    "from lib.database import SessionLocal\n",
    "db = SessionLocal()"
   ]
  },
  {
   "cell_type": "code",
   "execution_count": null,
   "metadata": {},
   "outputs": [],
   "source": [
    "# Cargar modelos\n",
    "from plataforma_web.v1.abogados.models import Abogado\n",
    "from plataforma_web.v1.autoridades.models import Autoridad\n",
    "from plataforma_web.v1.centros_trabajos.models import CentroTrabajo\n",
    "from plataforma_web.v1.distritos.models import Distrito\n",
    "from plataforma_web.v1.domicilios.models import Domicilio\n",
    "from plataforma_web.v1.edictos.models import Edicto\n",
    "from plataforma_web.v1.funcionarios.models import Funcionario\n",
    "from plataforma_web.v1.inv_categorias.models import InvCategoria\n",
    "from plataforma_web.v1.inv_componentes.models import InvComponente\n",
    "from plataforma_web.v1.inv_custodias.models import InvCustodia\n",
    "from plataforma_web.v1.inv_equipos.models import InvEquipo\n",
    "from plataforma_web.v1.inv_marcas.models import InvMarca\n",
    "from plataforma_web.v1.inv_modelos.models import InvModelo\n",
    "from plataforma_web.v1.inv_redes.models import InvRed\n",
    "from plataforma_web.v1.listas_de_acuerdos.models import ListaDeAcuerdo\n",
    "from plataforma_web.v1.listas_de_acuerdos_acuerdos.models import ListaDeAcuerdoAcuerdo\n",
    "from plataforma_web.v1.materias.models import Materia\n",
    "from plataforma_web.v1.materias_tipos_juicios.models import MateriaTipoJuicio\n",
    "from plataforma_web.v1.modulos.models import Modulo\n",
    "from plataforma_web.v1.oficinas.models import Oficina\n",
    "from plataforma_web.v1.permisos.models import Permiso\n",
    "from plataforma_web.v1.redams.models import Redam\n",
    "from plataforma_web.v1.roles.models import Rol\n",
    "from plataforma_web.v1.sentencias.models import Sentencia\n",
    "from plataforma_web.v1.soportes_categorias.models import SoporteCategoria\n",
    "from plataforma_web.v1.soportes_tickets.models import SoporteTicket\n",
    "from plataforma_web.v1.usuarios.models import Usuario\n",
    "from plataforma_web.v1.usuarios_roles.models import UsuarioRol"
   ]
  },
  {
   "cell_type": "code",
   "execution_count": null,
   "metadata": {},
   "outputs": [],
   "source": [
    "# Consultar las oficinas\n",
    "oficinas = db.query(Oficina.clave, Oficina.descripcion_corta).\\\n",
    "    filter(Oficina.estatus == \"A\").\\\n",
    "    order_by(Oficina.clave)\n",
    "print(tabulate(oficinas.limit(4).all()))"
   ]
  },
  {
   "cell_type": "code",
   "execution_count": 19,
   "metadata": {},
   "outputs": [
    {
     "name": "stdout",
     "output_type": "stream",
     "text": [
      "------------  -----------------------------  -  ------------------------------  --  -----------  -----------  ---------------  --------------------------------  ----------\n",
      "DSAL04-DINFO  carlos.hernandez@pjecz.gob.mx  1  CARLOS GABRIEL HERNANDEZ SALAS   2  COMPUTADORA  HP           PRO BOOK 450 G5  LAPTOP PARA CARLOS                2022-04-06\n",
      "DSAL04-DINFO  carlos.hernandez@pjecz.gob.mx  1  CARLOS GABRIEL HERNANDEZ SALAS   3  COMPUTADORA  HP           280 G3           CPU PARA CARLOS                   2022-04-06\n",
      "DSAL04-DINFO  carlos.hernandez@pjecz.gob.mx  1  CARLOS GABRIEL HERNANDEZ SALAS  51  OTROS        SAMSUNG      S24F350FHL       MONITOR 24\n",
      "DSAL04-DINFO  carlos.hernandez@pjecz.gob.mx  1  CARLOS GABRIEL HERNANDEZ SALAS  52  OTROS        HP           V203P            MONITOR 20\n",
      "DSAL04-DINFO  carlos.hernandez@pjecz.gob.mx  1  CARLOS GABRIEL HERNANDEZ SALAS  53  OTROS        NO DEFINIDO  NO DEFINIDO      REGULADOR DE VOLTAJE 6 CONTACTOS\n",
      "DSAL04-DINFO  ricardo.valdes@pjecz.gob.mx    2  RICARDO VALDES VILLEGAS          1  COMPUTADORA  LENOVO       80T2             LAPATOP V310 - 14IKB              2022-04-06\n",
      "DSAL04-DINFO  ricardo.valdes@pjecz.gob.mx    2  RICARDO VALDES VILLEGAS         56  OTROS        SAMSUNG      S24F350FHL       MONITOR 24\n",
      "DSAL04-DINFO  ricardo.valdes@pjecz.gob.mx    2  RICARDO VALDES VILLEGAS         57  OTROS        HP           V193B            MONITOR 19\n",
      "------------  -----------------------------  -  ------------------------------  --  -----------  -----------  ---------------  --------------------------------  ----------\n"
     ]
    }
   ],
   "source": [
    "# Matriz con oficinas, usuarios, custodias, equipos, tipos, modelos y marcas\n",
    "inv_equipos = db.\\\n",
    "    query(\n",
    "        Oficina.clave,\n",
    "        Usuario.email,\n",
    "        InvCustodia.id.label(\"inv_custodia_id\"), \n",
    "        InvCustodia.nombre_completo.label(\"inv_custodia_nombre_completo\"), \n",
    "        InvEquipo.id.label(\"inv_equipo_id\"),\n",
    "        InvEquipo.tipo, \n",
    "        InvMarca.nombre.label(\"inv_marca_nombre\"), \n",
    "        InvModelo.descripcion.label(\"inv_modelo_descripcion\"), \n",
    "        InvEquipo.descripcion.label(\"inv_equipo_descripcion\"),\n",
    "        InvEquipo.fecha_fabricacion,\n",
    "    ).\\\n",
    "    select_from(Oficina).join(Usuario, InvCustodia, InvEquipo, InvModelo, InvMarca).\\\n",
    "    filter(Oficina.estatus == \"A\").\\\n",
    "    filter(Usuario.estatus == \"A\").\\\n",
    "    filter(InvCustodia.estatus == \"A\").\\\n",
    "    filter(InvEquipo.estatus == \"A\").\\\n",
    "    order_by(InvCustodia.id, InvEquipo.id)\n",
    "print(tabulate(inv_equipos.limit(8).all()))"
   ]
  },
  {
   "cell_type": "code",
   "execution_count": 18,
   "metadata": {},
   "outputs": [
    {
     "name": "stdout",
     "output_type": "stream",
     "text": [
      "------------  -----------  --\n",
      "DSAL04-DINFO  COMPUTADORA  21\n",
      "DSAL04-DINFO  IMPRESORA     1\n",
      "DSAL04-DINFO  LAPTOP        1\n",
      "DSAL04-DINFO  OTROS        40\n",
      "DSAL04-DINFO  SCANNER       1\n",
      "DSAL04-DINFO  TELEFONIA     1\n",
      "------------  -----------  --\n"
     ]
    }
   ],
   "source": [
    "# Contar cantidad de equipos por tipo\n",
    "consulta = db.\\\n",
    "    query(\n",
    "        Oficina.clave,\n",
    "        InvEquipo.tipo,\n",
    "        func.count(\"*\").label(\"cantidad\"),\n",
    "    ).\\\n",
    "    select_from(Oficina).join(Usuario, InvCustodia, InvEquipo).\\\n",
    "    filter(Oficina.estatus == \"A\").\\\n",
    "    filter(Usuario.estatus == \"A\").\\\n",
    "    filter(InvCustodia.estatus == \"A\").\\\n",
    "    filter(InvEquipo.estatus == \"A\").\\\n",
    "    order_by(InvEquipo.tipo).\\\n",
    "    group_by(Oficina.clave, InvEquipo.tipo)\n",
    "print(tabulate(consulta.limit(8).all()))"
   ]
  }
 ],
 "metadata": {
  "kernelspec": {
   "display_name": "Python 3.10.4 ('venv': venv)",
   "language": "python",
   "name": "python3"
  },
  "language_info": {
   "codemirror_mode": {
    "name": "ipython",
    "version": 3
   },
   "file_extension": ".py",
   "mimetype": "text/x-python",
   "name": "python",
   "nbconvert_exporter": "python",
   "pygments_lexer": "ipython3",
   "version": "3.10.4"
  },
  "orig_nbformat": 4,
  "vscode": {
   "interpreter": {
    "hash": "8aaa67f5fff749436f585231123a87706ef0144126d244b1dbd867a0f6241d60"
   }
  }
 },
 "nbformat": 4,
 "nbformat_minor": 2
}
