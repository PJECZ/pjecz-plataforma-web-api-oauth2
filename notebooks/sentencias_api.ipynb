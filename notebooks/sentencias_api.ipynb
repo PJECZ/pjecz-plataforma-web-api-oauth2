{
 "cells": [
  {
   "cell_type": "markdown",
   "metadata": {},
   "source": [
    "# Sentencias"
   ]
  },
  {
   "cell_type": "code",
   "execution_count": null,
   "metadata": {},
   "outputs": [],
   "source": [
    "# Cargar paquetes\n",
    "import os\n",
    "import pandas as pd\n",
    "import requests\n",
    "\n",
    "# Cargar variables de entorno en .env\n",
    "from dotenv import load_dotenv\n",
    "load_dotenv()"
   ]
  },
  {
   "cell_type": "code",
   "execution_count": null,
   "metadata": {},
   "outputs": [],
   "source": [
    "# Hola al API OAuth2\n",
    "HOST = \"http://127.0.0.1:8002\"\n",
    "respuesta = requests.get(HOST)\n",
    "print(respuesta.status_code)\n",
    "print(respuesta.text)"
   ]
  },
  {
   "cell_type": "code",
   "execution_count": null,
   "metadata": {},
   "outputs": [],
   "source": [
    "# Autentificarse\n",
    "parametros = {\n",
    "    \"username\": os.getenv(\"USERNAME\"),\n",
    "    \"password\": os.getenv(\"PASSWORD\"),\n",
    "}\n",
    "cabeceras_para_autentificar = {'content-type': \"application/x-www-form-urlencoded\"}\n",
    "respuesta = requests.post(f\"{HOST}/token\", data=parametros, headers=cabeceras_para_autentificar)\n",
    "print(respuesta.status_code)\n",
    "cabeceras_para_api = None\n",
    "if respuesta.status_code == 200:\n",
    "    token = respuesta.json()['access_token']\n",
    "    cabeceras_para_api = {'Authorization': 'Bearer ' + token}\n",
    "print(cabeceras_para_api)"
   ]
  },
  {
   "cell_type": "code",
   "execution_count": null,
   "metadata": {},
   "outputs": [],
   "source": [
    "# Consultar\n",
    "parametros = { \"fecha_desde\": \"2022-06-17\" }\n",
    "try:\n",
    "    respuesta = requests.get(f\"{HOST}/v1/sentencias\", headers=cabeceras_para_api, params=parametros, timeout=12)\n",
    "except requests.exceptions.RequestException as error:\n",
    "    raise Exception(\"Parece que hay un error en la consulta: \" + str(error))\n",
    "if respuesta.status_code != 200:\n",
    "    raise requests.HTTPError(\"Parece que ya caducó el token\")\n",
    "columns = [\"distrito_nombre_corto\", \"autoridad_clave\", \"materia_tipo_juicio_descripcion\", \"sentencia\", \"sentencia_fecha\", \"fecha\", \"expediente\", \"es_perspectiva_genero\"]\n",
    "dataframe = None\n",
    "total = 0\n",
    "datos = respuesta.json()\n",
    "if \"items\" in datos:\n",
    "    dataframe = pd.json_normalize(datos[\"items\"])\n",
    "    total = datos[\"total\"]\n",
    "    dataframe = dataframe[columns]\n",
    "    print(dataframe.head(), total)"
   ]
  }
 ],
 "metadata": {
  "kernelspec": {
   "display_name": "Python 3.10.4 ('venv': venv)",
   "language": "python",
   "name": "python3"
  },
  "language_info": {
   "codemirror_mode": {
    "name": "ipython",
    "version": 3
   },
   "file_extension": ".py",
   "mimetype": "text/x-python",
   "name": "python",
   "nbconvert_exporter": "python",
   "pygments_lexer": "ipython3",
   "version": "3.10.4"
  },
  "orig_nbformat": 4,
  "vscode": {
   "interpreter": {
    "hash": "8aaa67f5fff749436f585231123a87706ef0144126d244b1dbd867a0f6241d60"
   }
  }
 },
 "nbformat": 4,
 "nbformat_minor": 2
}
